{
 "cells": [
  {
   "cell_type": "markdown",
   "metadata": {},
   "source": [
    "# [Computational Social Science] Project 5: Natural Language Processing "
   ]
  },
  {
   "cell_type": "markdown",
   "metadata": {},
   "source": [
    "**Name**: Takun Wang  \n",
    "**Date**: February 24, 2024"
   ]
  },
  {
   "cell_type": "markdown",
   "metadata": {},
   "source": [
    "In this project, you will use natural language processing techniques to explore a dataset containing tweets from members of the 116th United States Congress that met from January 3, 2019 to January 2, 2021. The dataset has also been cleaned to contain information about each legislator. Concretely, you will do the following:\n",
    "\n",
    "* Preprocess the text of legislators' tweets\n",
    "* Conduct Exploratory Data Analysis of the text\n",
    "* Use sentiment analysis to explore differences between legislators' tweets\n",
    "* Featurize text with manual feature engineering, frequency-based, and vector-based techniques\n",
    "* Predict legislators' political parties and whether they are a Senator or Representative\n",
    "\n",
    "You will explore two questions that relate to two central findings in political science and examine how they relate to the text of legislators' tweets. First, political scientists have argued that U.S. politics is currently highly polarized relative to other periods in American history, but also that the polarization is asymmetric. Historically, there were several conservative Democrats (i.e. \"blue dog Democrats\") and liberal Republicans (i.e. \"Rockefeller Republicans\"), as measured by popular measurement tools like [DW-NOMINATE](https://en.wikipedia.org/wiki/NOMINATE_(scaling_method)#:~:text=DW\\%2DNOMINATE\\%20scores\\%20have\\%20been,in\\%20the\\%20liberal\\%2Dconservative\\%20scale.). However, in the last few years, there are few if any examples of any Democrat in Congress being further to the right than any Republican and vice versa. At the same time, scholars have argued that this polarization is mostly a function of the Republican party moving further right than the Democratic party has moved left. **Does this sort of asymmetric polarization show up in how politicians communicate to their constituents through tweets?**\n",
    "\n",
    "Second, the U.S. Congress is a bicameral legislature, and there has long been debate about partisanship in the Senate versus the House. The House of Representatives is apportioned by population and all members serve two year terms. In the Senate, each state receives two Senators and each Senator serves a term of six years. For a variety of reasons (smaller chamber size, more insulation from the voters, rules and norms like the filibuster, etc.), the Senate has been argued to be the \"cooling saucer\" of Congress in that it is more bipartisan and moderate than the House. **Does the theory that the Senate is more moderate have support in Senators' tweets?**\n",
    "\n",
    "**Note**: See the project handout for more details on caveats and the data dictionary."
   ]
  },
  {
   "cell_type": "code",
   "execution_count": 1,
   "metadata": {},
   "outputs": [
    {
     "name": "stdout",
     "output_type": "stream",
     "text": [
      "2.0.3\n"
     ]
    }
   ],
   "source": [
    "# load packages\n",
    "# ----\n",
    "import pandas as pd; print(pd.__version__)\n",
    "import numpy as np\n",
    "\n",
    "# preprocessing\n",
    "import spacy\n",
    "nlp = spacy.load('en_core_web_sm')\n",
    "from spacy.lang.en.stop_words import STOP_WORDS\n",
    "from string import punctuation\n",
    "\n",
    "# plotting\n",
    "import matplotlib.pyplot as plt\n",
    "import seaborn as sns\n",
    "%matplotlib inline"
   ]
  },
  {
   "cell_type": "code",
   "execution_count": 2,
   "metadata": {},
   "outputs": [
    {
     "data": {
      "text/html": [
       "<div>\n",
       "<style scoped>\n",
       "    .dataframe tbody tr th:only-of-type {\n",
       "        vertical-align: middle;\n",
       "    }\n",
       "\n",
       "    .dataframe tbody tr th {\n",
       "        vertical-align: top;\n",
       "    }\n",
       "\n",
       "    .dataframe thead th {\n",
       "        text-align: right;\n",
       "    }\n",
       "</style>\n",
       "<table border=\"1\" class=\"dataframe\">\n",
       "  <thead>\n",
       "    <tr style=\"text-align: right;\">\n",
       "      <th></th>\n",
       "      <th>tweet_id</th>\n",
       "      <th>screen_name</th>\n",
       "      <th>datetime</th>\n",
       "      <th>text</th>\n",
       "      <th>name_wikipedia</th>\n",
       "      <th>position</th>\n",
       "      <th>joined_congress_date</th>\n",
       "      <th>birthday</th>\n",
       "      <th>gender</th>\n",
       "      <th>state</th>\n",
       "      <th>district_number</th>\n",
       "      <th>party</th>\n",
       "      <th>trump_2016_state_share</th>\n",
       "      <th>clinton_2016_state_share</th>\n",
       "      <th>obama_2012_state_share</th>\n",
       "      <th>romney_2012_state_share</th>\n",
       "    </tr>\n",
       "  </thead>\n",
       "  <tbody>\n",
       "    <tr>\n",
       "      <th>0</th>\n",
       "      <td>1.081010e+18</td>\n",
       "      <td>RepByrne</td>\n",
       "      <td>2019-01-03T21:23:00-05:00</td>\n",
       "      <td>Great news for Baldwin County! The economy of ...</td>\n",
       "      <td>Bradley Byrne</td>\n",
       "      <td>Rep</td>\n",
       "      <td>8-Jan-14</td>\n",
       "      <td>2/16/1955</td>\n",
       "      <td>M</td>\n",
       "      <td>AL</td>\n",
       "      <td>1</td>\n",
       "      <td>Republican</td>\n",
       "      <td>1,318,255</td>\n",
       "      <td>729,547</td>\n",
       "      <td>795,696</td>\n",
       "      <td>1,255,925</td>\n",
       "    </tr>\n",
       "    <tr>\n",
       "      <th>1</th>\n",
       "      <td>1.080880e+18</td>\n",
       "      <td>RepByrne</td>\n",
       "      <td>2019-01-03T12:30:38-05:00</td>\n",
       "      <td>Outstanding news today from @Airbus! @JetBlue ...</td>\n",
       "      <td>Bradley Byrne</td>\n",
       "      <td>Rep</td>\n",
       "      <td>8-Jan-14</td>\n",
       "      <td>2/16/1955</td>\n",
       "      <td>M</td>\n",
       "      <td>AL</td>\n",
       "      <td>1</td>\n",
       "      <td>Republican</td>\n",
       "      <td>1,318,255</td>\n",
       "      <td>729,547</td>\n",
       "      <td>795,696</td>\n",
       "      <td>1,255,925</td>\n",
       "    </tr>\n",
       "    <tr>\n",
       "      <th>2</th>\n",
       "      <td>1.080830e+18</td>\n",
       "      <td>RepByrne</td>\n",
       "      <td>2019-01-03T09:12:07-05:00</td>\n",
       "      <td>RT @senatemajldr Democrats will have to get se...</td>\n",
       "      <td>Bradley Byrne</td>\n",
       "      <td>Rep</td>\n",
       "      <td>8-Jan-14</td>\n",
       "      <td>2/16/1955</td>\n",
       "      <td>M</td>\n",
       "      <td>AL</td>\n",
       "      <td>1</td>\n",
       "      <td>Republican</td>\n",
       "      <td>1,318,255</td>\n",
       "      <td>729,547</td>\n",
       "      <td>795,696</td>\n",
       "      <td>1,255,925</td>\n",
       "    </tr>\n",
       "    <tr>\n",
       "      <th>3</th>\n",
       "      <td>1.080890e+18</td>\n",
       "      <td>RepByrne</td>\n",
       "      <td>2019-01-03T13:20:53-05:00</td>\n",
       "      <td>Here is a sign of things to come: As Democrats...</td>\n",
       "      <td>Bradley Byrne</td>\n",
       "      <td>Rep</td>\n",
       "      <td>8-Jan-14</td>\n",
       "      <td>2/16/1955</td>\n",
       "      <td>M</td>\n",
       "      <td>AL</td>\n",
       "      <td>1</td>\n",
       "      <td>Republican</td>\n",
       "      <td>1,318,255</td>\n",
       "      <td>729,547</td>\n",
       "      <td>795,696</td>\n",
       "      <td>1,255,925</td>\n",
       "    </tr>\n",
       "    <tr>\n",
       "      <th>4</th>\n",
       "      <td>1.080870e+18</td>\n",
       "      <td>RepByrne</td>\n",
       "      <td>2019-01-03T12:10:26-05:00</td>\n",
       "      <td>Let's understand what we're dealing with here:...</td>\n",
       "      <td>Bradley Byrne</td>\n",
       "      <td>Rep</td>\n",
       "      <td>8-Jan-14</td>\n",
       "      <td>2/16/1955</td>\n",
       "      <td>M</td>\n",
       "      <td>AL</td>\n",
       "      <td>1</td>\n",
       "      <td>Republican</td>\n",
       "      <td>1,318,255</td>\n",
       "      <td>729,547</td>\n",
       "      <td>795,696</td>\n",
       "      <td>1,255,925</td>\n",
       "    </tr>\n",
       "  </tbody>\n",
       "</table>\n",
       "</div>"
      ],
      "text/plain": [
       "       tweet_id screen_name                   datetime  \\\n",
       "0  1.081010e+18    RepByrne  2019-01-03T21:23:00-05:00   \n",
       "1  1.080880e+18    RepByrne  2019-01-03T12:30:38-05:00   \n",
       "2  1.080830e+18    RepByrne  2019-01-03T09:12:07-05:00   \n",
       "3  1.080890e+18    RepByrne  2019-01-03T13:20:53-05:00   \n",
       "4  1.080870e+18    RepByrne  2019-01-03T12:10:26-05:00   \n",
       "\n",
       "                                                text name_wikipedia position  \\\n",
       "0  Great news for Baldwin County! The economy of ...  Bradley Byrne      Rep   \n",
       "1  Outstanding news today from @Airbus! @JetBlue ...  Bradley Byrne      Rep   \n",
       "2  RT @senatemajldr Democrats will have to get se...  Bradley Byrne      Rep   \n",
       "3  Here is a sign of things to come: As Democrats...  Bradley Byrne      Rep   \n",
       "4  Let's understand what we're dealing with here:...  Bradley Byrne      Rep   \n",
       "\n",
       "  joined_congress_date   birthday gender state district_number       party  \\\n",
       "0             8-Jan-14  2/16/1955      M    AL               1  Republican   \n",
       "1             8-Jan-14  2/16/1955      M    AL               1  Republican   \n",
       "2             8-Jan-14  2/16/1955      M    AL               1  Republican   \n",
       "3             8-Jan-14  2/16/1955      M    AL               1  Republican   \n",
       "4             8-Jan-14  2/16/1955      M    AL               1  Republican   \n",
       "\n",
       "  trump_2016_state_share clinton_2016_state_share obama_2012_state_share  \\\n",
       "0              1,318,255                  729,547                795,696   \n",
       "1              1,318,255                  729,547                795,696   \n",
       "2              1,318,255                  729,547                795,696   \n",
       "3              1,318,255                  729,547                795,696   \n",
       "4              1,318,255                  729,547                795,696   \n",
       "\n",
       "  romney_2012_state_share  \n",
       "0               1,255,925  \n",
       "1               1,255,925  \n",
       "2               1,255,925  \n",
       "3               1,255,925  \n",
       "4               1,255,925  "
      ]
     },
     "execution_count": 2,
     "metadata": {},
     "output_type": "execute_result"
    }
   ],
   "source": [
    "# load data \n",
    "# ----\n",
    "tweets = pd.read_csv(\"data/116th Congressional Tweets and Demographics.csv\")\n",
    "tweets.head()"
   ]
  },
  {
   "cell_type": "code",
   "execution_count": 3,
   "metadata": {},
   "outputs": [
    {
     "name": "stdout",
     "output_type": "stream",
     "text": [
      "(946791, 16) \n",
      "\n",
      " number of figures: 455 \n",
      "\n",
      " party\n",
      "[Democrat]       242\n",
      "[Republican]     211\n",
      "[Independent]      2\n",
      "Name: count, dtype: int64 \n",
      "\n",
      " party\n",
      "Democrat       606967\n",
      "Republican     336068\n",
      "Independent      3756\n",
      "Name: count, dtype: int64 \n",
      "\n",
      " position\n",
      "Rep    725513\n",
      "Sen    221278\n",
      "Name: count, dtype: int64\n"
     ]
    }
   ],
   "source": [
    "# inspect\n",
    "print(tweets.shape, '\\n\\n',\n",
    "      'number of figures:', tweets['name_wikipedia'].nunique(), '\\n\\n',\n",
    "      tweets.groupby('name_wikipedia')['party'].unique().value_counts(), '\\n\\n',\n",
    "      tweets['party'].value_counts(), '\\n\\n', \n",
    "      tweets['position'].value_counts())"
   ]
  },
  {
   "cell_type": "code",
   "execution_count": 4,
   "metadata": {},
   "outputs": [],
   "source": [
    "# sample a subset of data (for the limitation of computational resources)\n",
    "## here I sample it in a way to balance # of tweets from Democrats and Republicans\n",
    "# ----\n",
    "tweets = pd.concat([tweets[tweets['party'] == 'Democrat'].sample(7500, random_state = 224), \n",
    "                    tweets[tweets['party'] == 'Republican'].sample(7500, random_state = 224)]).reset_index(drop = True)"
   ]
  },
  {
   "cell_type": "code",
   "execution_count": 5,
   "metadata": {},
   "outputs": [
    {
     "name": "stdout",
     "output_type": "stream",
     "text": [
      "(15000, 16) \n",
      "\n",
      " number of figures: 450 \n",
      "\n",
      " party\n",
      "[Democrat]      239\n",
      "[Republican]    211\n",
      "Name: count, dtype: int64 \n",
      "\n",
      " party\n",
      "Democrat      7500\n",
      "Republican    7500\n",
      "Name: count, dtype: int64 \n",
      "\n",
      " position\n",
      "Rep    11254\n",
      "Sen     3746\n",
      "Name: count, dtype: int64\n"
     ]
    }
   ],
   "source": [
    "# inspect again \n",
    "print(tweets.shape, '\\n\\n',\n",
    "      'number of figures:', tweets['name_wikipedia'].nunique(), '\\n\\n',\n",
    "      tweets.groupby('name_wikipedia')['party'].unique().value_counts(), '\\n\\n',\n",
    "      tweets['party'].value_counts(), '\\n\\n', \n",
    "      tweets['position'].value_counts())"
   ]
  },
  {
   "cell_type": "markdown",
   "metadata": {},
   "source": [
    "## 1. Preprocessing"
   ]
  },
  {
   "cell_type": "markdown",
   "metadata": {},
   "source": [
    "The first step in working with text data is to preprocess it. Make sure you do the following:\n",
    "\n",
    "* Remove punctuation and stop words. The `rem_punc_stop()` function we used in lab is provided to you but you should feel free to edit it as necessary for other steps\n",
    "* Remove tokens that occur frequently in tweets, but may not be helpful for downstream classification. For instance, many tweets contain a flag for retweeting, or share a URL \n",
    "\n",
    "As you search online, you might run into solutions that rely on regular expressions. You are free to use these, but you should also be able to preprocess using the techniques we covered in lab. Specifically, we encourage you to use spaCy's token attributes and string methods to do some of this text preprocessing."
   ]
  },
  {
   "cell_type": "code",
   "execution_count": 6,
   "metadata": {},
   "outputs": [
    {
     "name": "stdout",
     "output_type": "stream",
     "text": [
      "{'?', '%', '&', '(', '/', '”', '>', '\"', ':', '_', ';', '–', '$', ')', '-', '=', '~', \"'\", ']', '.', '<', '{', '!', '`', '}', '—', '*', '#', '\\\\', '+', '’', '^', '|', '[', ','}\n"
     ]
    }
   ],
   "source": [
    "# define punctuation\n",
    "# ----\n",
    "\n",
    "# update some other punctuations (e.g. fullwidth quotation marks)\n",
    "punc = set(punctuation)\n",
    "punc.update({'”', '\"', '’', '—', '–'})\n",
    "\n",
    "# remove '@' (mention) from the set\n",
    "punc = punc - {'@'}\n",
    "\n",
    "print(punc)"
   ]
  },
  {
   "cell_type": "code",
   "execution_count": 7,
   "metadata": {},
   "outputs": [],
   "source": [
    "# add stop words (e.g. punctuation \"&\" in html format is \"&amp;\")\n",
    "# ----\n",
    "STOP_WORDS.update({'amp', 'w', ' ', '  ', '   ', '    '})"
   ]
  },
  {
   "cell_type": "code",
   "execution_count": 8,
   "metadata": {},
   "outputs": [],
   "source": [
    "def tokenize_func(txt): \n",
    "    \n",
    "    # lowercase\n",
    "    txt = txt.lower()\n",
    "    \n",
    "    # replace some texts\n",
    "    txt = txt.replace('\\n\\n', ' ')       # line breaks\n",
    "    txt = txt.replace('\\n', ' ')\n",
    "    txt = txt.replace('#', '@')          # hashtags\n",
    "    \n",
    "    # remove puctuation \n",
    "    txt = ''.join([ch for ch in txt if ch not in punc])\n",
    "    \n",
    "    # tokenize the text\n",
    "    words = [token.lemma_.lower() for token in nlp(txt)]\n",
    "    \n",
    "    # filter out URLs and stop words\n",
    "    words = [w for w in words if w not in STOP_WORDS]\n",
    "    words = [w for w in words if not w.startswith('http')]\n",
    "    \n",
    "    return words"
   ]
  },
  {
   "cell_type": "code",
   "execution_count": 9,
   "metadata": {},
   "outputs": [
    {
     "data": {
      "text/plain": [
       "'DREAMers: your #HomeIsHere.\\n\\nThis is a major victory, and I will continue fighting for a permanent solution for our nation’s DREAMers and their families to have a path to citizenship in the country they call home.\\nhttps://www.nbcnews.com/politics/supreme-court/supreme-court-rules-trump-cannot-end-daca-big-win-dreamer-n1115116'"
      ]
     },
     "execution_count": 9,
     "metadata": {},
     "output_type": "execute_result"
    }
   ],
   "source": [
    "# check \n",
    "txt = tweets['text'][224]\n",
    "txt"
   ]
  },
  {
   "cell_type": "code",
   "execution_count": 10,
   "metadata": {},
   "outputs": [
    {
     "name": "stdout",
     "output_type": "stream",
     "text": [
      "['dreamer', '@homeishere', 'major', 'victory', 'continue', 'fight', 'permanent', 'solution', 'nation', 'dreamer', 'family', 'path', 'citizenship', 'country', 'home']\n"
     ]
    }
   ],
   "source": [
    "# check\n",
    "print(tokenize_func(txt))"
   ]
  },
  {
   "cell_type": "code",
   "execution_count": 11,
   "metadata": {},
   "outputs": [
    {
     "data": {
      "text/plain": [
       "0        [tune, @msnbc, today, 1130am, segment, @katytu...\n",
       "1        [bud, tech, enthusiast, coder, engineer, innov...\n",
       "2        [join, @speakerpelosi, prepare, vote, @hr6, am...\n",
       "3        [rt, @zackhawkinsnc, dr, ronda, taylorbullock,...\n",
       "4        [@endqualifiedimmunity, pass, rep, pressley, @...\n",
       "                               ...                        \n",
       "14995    [@lifelibertylevin, start, tune, @foxnews, @ma...\n",
       "14996    [house, democrats, risk, safety, security, fre...\n",
       "14997    [news, @jiminhofe, lead, letter, urge, epa, co...\n",
       "14998    [pleasure, visit, ms, barrett, early, today, e...\n",
       "14999    [proud, support, pay, family, leave, @fy20ndaa...\n",
       "Name: tokens, Length: 15000, dtype: object"
      ]
     },
     "execution_count": 11,
     "metadata": {},
     "output_type": "execute_result"
    }
   ],
   "source": [
    "# apply the tokenize function to all the 15,000 columns (~3 min computing time)\n",
    "# ----\n",
    "tweets['tokens'] = tweets['text'].map(lambda x: tokenize_func(x)) \n",
    "tweets['tokens'] "
   ]
  },
  {
   "cell_type": "code",
   "execution_count": 12,
   "metadata": {},
   "outputs": [],
   "source": [
    "# turn the tokens into text \n",
    "# ----\n",
    "tweets['tokens_text'] = tweets['tokens'].map(lambda text: ' '.join(text))"
   ]
  },
  {
   "cell_type": "code",
   "execution_count": 13,
   "metadata": {},
   "outputs": [],
   "source": [
    "# count # of tokens\n",
    "tweets['tokens_count'] = tweets['tokens'].map(lambda x: len(x))"
   ]
  },
  {
   "cell_type": "code",
   "execution_count": 14,
   "metadata": {},
   "outputs": [
    {
     "data": {
      "text/plain": [
       "'dreamer @homeishere major victory continue fight permanent solution nation dreamer family path citizenship country home'"
      ]
     },
     "execution_count": 14,
     "metadata": {},
     "output_type": "execute_result"
    }
   ],
   "source": [
    "# check\n",
    "tweets['tokens_text'][224]"
   ]
  },
  {
   "cell_type": "code",
   "execution_count": 15,
   "metadata": {},
   "outputs": [
    {
     "data": {
      "text/plain": [
       "15"
      ]
     },
     "execution_count": 15,
     "metadata": {},
     "output_type": "execute_result"
    }
   ],
   "source": [
    "tweets['tokens_count'][224]"
   ]
  },
  {
   "cell_type": "code",
   "execution_count": 17,
   "metadata": {},
   "outputs": [
    {
     "name": "stdout",
     "output_type": "stream",
     "text": [
      "51\n"
     ]
    },
    {
     "data": {
      "text/html": [
       "<div>\n",
       "<style scoped>\n",
       "    .dataframe tbody tr th:only-of-type {\n",
       "        vertical-align: middle;\n",
       "    }\n",
       "\n",
       "    .dataframe tbody tr th {\n",
       "        vertical-align: top;\n",
       "    }\n",
       "\n",
       "    .dataframe thead th {\n",
       "        text-align: right;\n",
       "    }\n",
       "</style>\n",
       "<table border=\"1\" class=\"dataframe\">\n",
       "  <thead>\n",
       "    <tr style=\"text-align: right;\">\n",
       "      <th></th>\n",
       "      <th>tweet_id</th>\n",
       "      <th>screen_name</th>\n",
       "      <th>datetime</th>\n",
       "      <th>text</th>\n",
       "      <th>name_wikipedia</th>\n",
       "      <th>position</th>\n",
       "      <th>joined_congress_date</th>\n",
       "      <th>birthday</th>\n",
       "      <th>gender</th>\n",
       "      <th>state</th>\n",
       "      <th>district_number</th>\n",
       "      <th>party</th>\n",
       "      <th>trump_2016_state_share</th>\n",
       "      <th>clinton_2016_state_share</th>\n",
       "      <th>obama_2012_state_share</th>\n",
       "      <th>romney_2012_state_share</th>\n",
       "      <th>tokens</th>\n",
       "      <th>tokens_text</th>\n",
       "      <th>tokens_count</th>\n",
       "    </tr>\n",
       "  </thead>\n",
       "  <tbody>\n",
       "    <tr>\n",
       "      <th>334</th>\n",
       "      <td>1.213870e+18</td>\n",
       "      <td>RepJoeMorelle</td>\n",
       "      <td>2020-01-05T11:53:37-05:00</td>\n",
       "      <td>http://pbs.twimg.com/media/ENiE0wFWkAUzC8J.jpg...</td>\n",
       "      <td>Joseph D. Morelle</td>\n",
       "      <td>Rep</td>\n",
       "      <td>13-Nov-18</td>\n",
       "      <td>4/29/1957</td>\n",
       "      <td>M</td>\n",
       "      <td>NY</td>\n",
       "      <td>25</td>\n",
       "      <td>Democrat</td>\n",
       "      <td>2,819,533</td>\n",
       "      <td>4,556,118</td>\n",
       "      <td>4,485,741</td>\n",
       "      <td>2,490,431</td>\n",
       "      <td>[]</td>\n",
       "      <td></td>\n",
       "      <td>0</td>\n",
       "    </tr>\n",
       "    <tr>\n",
       "      <th>749</th>\n",
       "      <td>1.294290e+18</td>\n",
       "      <td>RepAndreCarson</td>\n",
       "      <td>2020-08-14T10:54:32-04:00</td>\n",
       "      <td>http://pbs.twimg.com/media/EfY6W-dXoAIdZmc.png</td>\n",
       "      <td>André Carson</td>\n",
       "      <td>Rep</td>\n",
       "      <td>11-Mar-08</td>\n",
       "      <td>10/16/1974</td>\n",
       "      <td>M</td>\n",
       "      <td>IN</td>\n",
       "      <td>7</td>\n",
       "      <td>Democrat</td>\n",
       "      <td>1,557,286</td>\n",
       "      <td>1,033,126</td>\n",
       "      <td>1,152,887</td>\n",
       "      <td>1,420,543</td>\n",
       "      <td>[]</td>\n",
       "      <td></td>\n",
       "      <td>0</td>\n",
       "    </tr>\n",
       "    <tr>\n",
       "      <th>1615</th>\n",
       "      <td>1.320410e+18</td>\n",
       "      <td>RepJahanaHayes</td>\n",
       "      <td>2020-10-25T12:42:17-04:00</td>\n",
       "      <td>http://pbs.twimg.com/media/ElMFpkZXUAAR05O.jpg</td>\n",
       "      <td>Jahana Hayes</td>\n",
       "      <td>Rep</td>\n",
       "      <td>3-Jan-19</td>\n",
       "      <td>3/8/1973</td>\n",
       "      <td>F</td>\n",
       "      <td>CT</td>\n",
       "      <td>5</td>\n",
       "      <td>Democrat</td>\n",
       "      <td>673,215</td>\n",
       "      <td>897,572</td>\n",
       "      <td>905,083</td>\n",
       "      <td>634,892</td>\n",
       "      <td>[]</td>\n",
       "      <td></td>\n",
       "      <td>0</td>\n",
       "    </tr>\n",
       "    <tr>\n",
       "      <th>1727</th>\n",
       "      <td>1.249080e+18</td>\n",
       "      <td>RepKirkpatrick</td>\n",
       "      <td>2020-04-11T17:00:43-04:00</td>\n",
       "      <td>http://pbs.twimg.com/media/EVWfmlTWAAE8CAR.jpg</td>\n",
       "      <td>Ann Kirkpatrick</td>\n",
       "      <td>Rep</td>\n",
       "      <td>3-Jan-19</td>\n",
       "      <td>3/24/1950</td>\n",
       "      <td>F</td>\n",
       "      <td>AZ</td>\n",
       "      <td>2</td>\n",
       "      <td>Democrat</td>\n",
       "      <td>1,252,401</td>\n",
       "      <td>1,161,167</td>\n",
       "      <td>1,025,232</td>\n",
       "      <td>1,233,654</td>\n",
       "      <td>[]</td>\n",
       "      <td></td>\n",
       "      <td>0</td>\n",
       "    </tr>\n",
       "    <tr>\n",
       "      <th>2294</th>\n",
       "      <td>1.318580e+18</td>\n",
       "      <td>RepJahanaHayes</td>\n",
       "      <td>2020-10-20T11:29:41-04:00</td>\n",
       "      <td>http://pbs.twimg.com/media/EkyFFVLXEAMHtbN.jpg</td>\n",
       "      <td>Jahana Hayes</td>\n",
       "      <td>Rep</td>\n",
       "      <td>3-Jan-19</td>\n",
       "      <td>3/8/1973</td>\n",
       "      <td>F</td>\n",
       "      <td>CT</td>\n",
       "      <td>5</td>\n",
       "      <td>Democrat</td>\n",
       "      <td>673,215</td>\n",
       "      <td>897,572</td>\n",
       "      <td>905,083</td>\n",
       "      <td>634,892</td>\n",
       "      <td>[]</td>\n",
       "      <td></td>\n",
       "      <td>0</td>\n",
       "    </tr>\n",
       "  </tbody>\n",
       "</table>\n",
       "</div>"
      ],
      "text/plain": [
       "          tweet_id     screen_name                   datetime  \\\n",
       "334   1.213870e+18   RepJoeMorelle  2020-01-05T11:53:37-05:00   \n",
       "749   1.294290e+18  RepAndreCarson  2020-08-14T10:54:32-04:00   \n",
       "1615  1.320410e+18  RepJahanaHayes  2020-10-25T12:42:17-04:00   \n",
       "1727  1.249080e+18  RepKirkpatrick  2020-04-11T17:00:43-04:00   \n",
       "2294  1.318580e+18  RepJahanaHayes  2020-10-20T11:29:41-04:00   \n",
       "\n",
       "                                                   text     name_wikipedia  \\\n",
       "334   http://pbs.twimg.com/media/ENiE0wFWkAUzC8J.jpg...  Joseph D. Morelle   \n",
       "749      http://pbs.twimg.com/media/EfY6W-dXoAIdZmc.png       André Carson   \n",
       "1615     http://pbs.twimg.com/media/ElMFpkZXUAAR05O.jpg       Jahana Hayes   \n",
       "1727     http://pbs.twimg.com/media/EVWfmlTWAAE8CAR.jpg    Ann Kirkpatrick   \n",
       "2294     http://pbs.twimg.com/media/EkyFFVLXEAMHtbN.jpg       Jahana Hayes   \n",
       "\n",
       "     position joined_congress_date    birthday gender state district_number  \\\n",
       "334       Rep            13-Nov-18   4/29/1957      M    NY              25   \n",
       "749       Rep            11-Mar-08  10/16/1974      M    IN               7   \n",
       "1615      Rep             3-Jan-19    3/8/1973      F    CT               5   \n",
       "1727      Rep             3-Jan-19   3/24/1950      F    AZ               2   \n",
       "2294      Rep             3-Jan-19    3/8/1973      F    CT               5   \n",
       "\n",
       "         party trump_2016_state_share clinton_2016_state_share  \\\n",
       "334   Democrat              2,819,533                4,556,118   \n",
       "749   Democrat              1,557,286                1,033,126   \n",
       "1615  Democrat                673,215                  897,572   \n",
       "1727  Democrat              1,252,401                1,161,167   \n",
       "2294  Democrat                673,215                  897,572   \n",
       "\n",
       "     obama_2012_state_share romney_2012_state_share tokens tokens_text  \\\n",
       "334               4,485,741               2,490,431     []               \n",
       "749               1,152,887               1,420,543     []               \n",
       "1615                905,083                 634,892     []               \n",
       "1727              1,025,232               1,233,654     []               \n",
       "2294                905,083                 634,892     []               \n",
       "\n",
       "      tokens_count  \n",
       "334              0  \n",
       "749              0  \n",
       "1615             0  \n",
       "1727             0  \n",
       "2294             0  "
      ]
     },
     "execution_count": 17,
     "metadata": {},
     "output_type": "execute_result"
    }
   ],
   "source": [
    "# check (51 tweets w/o tokens)\n",
    "print(len(tweets[tweets['tokens_count'] == 0]))\n",
    "tweets[tweets['tokens_count'] == 0].head()"
   ]
  },
  {
   "cell_type": "code",
   "execution_count": 22,
   "metadata": {},
   "outputs": [
    {
     "data": {
      "text/plain": [
       "(14949, 19)"
      ]
     },
     "execution_count": 22,
     "metadata": {},
     "output_type": "execute_result"
    }
   ],
   "source": [
    "# drop tweets w/o tokens\n",
    "tweets = tweets[tweets['tokens_count'] != 0].reset_index(drop = True)\n",
    "tweets.shape"
   ]
  },
  {
   "cell_type": "markdown",
   "metadata": {},
   "source": [
    "## 2. Exploratory Data Analysis"
   ]
  },
  {
   "cell_type": "markdown",
   "metadata": {},
   "source": [
    "Use two of the techniques we covered in lab (or other techniques outside of lab!) to explore the text of the tweets. You should construct these visualizations with an eye toward the eventual classification tasks: (1) predicting the legislator's political party based on the text of their tweet, and (2) predicting whether the legislator is a Senator or Representative. As a reminder, in lab we covered word frequencies, word clouds, word/character counts, scattertext, and topic modeling as possible exploration tools. "
   ]
  },
  {
   "cell_type": "markdown",
   "metadata": {},
   "source": [
    "### 2.1. EDA 1: Scattertext"
   ]
  },
  {
   "cell_type": "code",
   "execution_count": 14,
   "metadata": {},
   "outputs": [],
   "source": [
    "# load packages \n",
    "# ----\n",
    "import scattertext as st"
   ]
  },
  {
   "cell_type": "code",
   "execution_count": 15,
   "metadata": {},
   "outputs": [],
   "source": [
    "# create corpus\n",
    "# ----\n",
    "corpus = st.CorpusFromPandas(\n",
    "    tweets,\n",
    "\tcategory_col = 'party',     # specify the explanatory variable  \n",
    "\ttext_col = 'tokens_text',   # specify the text column\n",
    "\tnlp = nlp).build()          # apply the nlp algorithim and build"
   ]
  },
  {
   "cell_type": "code",
   "execution_count": 16,
   "metadata": {},
   "outputs": [
    {
     "data": {
      "text/plain": [
       "3895900"
      ]
     },
     "execution_count": 16,
     "metadata": {},
     "output_type": "execute_result"
    }
   ],
   "source": [
    "# create html document\n",
    "# ----\n",
    "html = st.produce_scattertext_explorer(\n",
    "    corpus,\n",
    "\tcategory = 'Democrat',\n",
    "\tcategory_name = 'Democrat',\n",
    "\tnot_category_name = 'Republican',\n",
    "\tminimum_term_frequency = 5,\n",
    "\twidth_in_pixels = 1000,\n",
    "\tmetadata = corpus.get_df()['name_wikipedia'])\n",
    "\n",
    "# write html document \n",
    "open(\"export/tweets_st.html\", 'wb').write(html.encode('utf-8'))"
   ]
  },
  {
   "cell_type": "markdown",
   "metadata": {},
   "source": [
    "**Output Screeshot:**\n",
    "![title](export/tweets_st.png)"
   ]
  },
  {
   "cell_type": "markdown",
   "metadata": {},
   "source": [
    "### 2.2. EDA 2: Word Counts"
   ]
  },
  {
   "cell_type": "code",
   "execution_count": 23,
   "metadata": {},
   "outputs": [],
   "source": [
    "# load packages\n",
    "# ----\n",
    "from sklearn.feature_extraction.text import CountVectorizer"
   ]
  },
  {
   "cell_type": "code",
   "execution_count": 24,
   "metadata": {
    "scrolled": true
   },
   "outputs": [
    {
     "data": {
      "text/plain": [
       "1130am                 0\n",
       "app                    1\n",
       "article                0\n",
       "bring                  0\n",
       "bud                    1\n",
       "chance                 1\n",
       "coder                  1\n",
       "congressionalac        1\n",
       "defendourdemocracy     0\n",
       "donald                 0\n",
       "engineer               1\n",
       "enthusiast             1\n",
       "historic               0\n",
       "impeachment            0\n",
       "impeachmenthearings    0\n",
       "innovator              1\n",
       "katyturnbc             0\n",
       "msnbc                  0\n",
       "nj11                   1\n",
       "segment                0\n",
       "submit                 1\n",
       "tech                   1\n",
       "today                  0\n",
       "trump                  0\n",
       "tune                   0\n",
       "vote                   0\n",
       "Name: 1, dtype: int64"
      ]
     },
     "execution_count": 24,
     "metadata": {},
     "output_type": "execute_result"
    }
   ],
   "source": [
    "# test a count vectorizer\n",
    "# ----\n",
    "count = CountVectorizer()\n",
    "count_mx = count.fit_transform(tweets['tokens_text'][0:2])\n",
    "\n",
    "# convert matrix to dataframe\n",
    "count_df = pd.DataFrame(\n",
    "    data = count_mx.toarray(),   \n",
    "\tcolumns = count.get_feature_names_out()) \n",
    "\n",
    "count_df.iloc[1]"
   ]
  },
  {
   "cell_type": "code",
   "execution_count": 25,
   "metadata": {},
   "outputs": [
    {
     "name": "stdout",
     "output_type": "stream",
     "text": [
      "bud tech enthusiast coder engineer innovator @nj11 chance submit app @congressionalac \n",
      "\n",
      " ----original text as follows---- \n",
      "\n",
      " Calling all budding tech enthusiasts, coders, engineers, and innovators in #NJ11! This is your last chance to submit your apps for the @CongressionalAC! http://pbs.twimg.com/media/EIJAIQdWoAEOrq3.png\n"
     ]
    }
   ],
   "source": [
    "# check (make sure the vectorizer did work as expected)\n",
    "print(tweets['tokens_text'][1], '\\n\\n',\n",
    "      '----original text as follows----', '\\n\\n',\n",
    "      tweets['text'][1])"
   ]
  },
  {
   "cell_type": "code",
   "execution_count": 26,
   "metadata": {},
   "outputs": [
    {
     "data": {
      "image/png": "[encoded data removed]",
      "text/plain": [
       "<Figure size 640x480 with 1 Axes>"
      ]
     },
     "metadata": {},
     "output_type": "display_data"
    }
   ],
   "source": [
    "# plot most frequent unigrams \n",
    "count = CountVectorizer(min_df = 5) \n",
    "count_mx = count.fit_transform(tweets['tokens_text'])\n",
    "\n",
    "# convert matrix to an arrray and then to a dataframe\n",
    "count_df = pd.DataFrame(\n",
    "    count_mx.toarray(), \n",
    "    columns = count.get_feature_names_out()) \n",
    "\n",
    "# create dictionary and sort it by frequency\n",
    "dic = pd.DataFrame(count_df.sum(), columns=['freq'])\n",
    "dic = dic.sort_values(\n",
    "\tby = ['freq'], \n",
    "\tascending = False).reset_index()\n",
    "\n",
    "# plot \n",
    "sns.barplot(x = 'index', \n",
    "            y = 'freq', \n",
    "            hue = 'index', \n",
    "            data = dic[0:20])\n",
    "plt.xticks(rotation=90);"
   ]
  },
  {
   "cell_type": "code",
   "execution_count": 27,
   "metadata": {},
   "outputs": [
    {
     "data": {
      "image/png": "[encoded data removed]",
      "text/plain": [
       "<Figure size 640x480 with 1 Axes>"
      ]
     },
     "metadata": {},
     "output_type": "display_data"
    }
   ],
   "source": [
    "# plot most frequent bigrams \n",
    "count = CountVectorizer(min_df = 5, ngram_range = (2,2))\n",
    "count_mx = count.fit_transform(tweets['tokens_text'])\n",
    "\n",
    "# convert matrix to an arrray and then to a dataframe\n",
    "count_df = pd.DataFrame(\n",
    "    count_mx.toarray(), \n",
    "    columns = count.get_feature_names_out()) \n",
    "\n",
    "# create dictionary and sort it by frequency\n",
    "dic = pd.DataFrame(count_df.sum(), columns=['freq'])\n",
    "dic = dic.sort_values(\n",
    "\tby = ['freq'], \n",
    "\tascending = False).reset_index()\n",
    "\n",
    "# plot \n",
    "sns.barplot(x = 'index', \n",
    "            y = 'freq', \n",
    "            hue = 'index', \n",
    "            data = dic[0:20])\n",
    "plt.xticks(rotation=90);"
   ]
  },
  {
   "cell_type": "markdown",
   "metadata": {},
   "source": [
    "### 2.3. EDA 3: Topic Modeling"
   ]
  },
  {
   "cell_type": "code",
   "execution_count": 28,
   "metadata": {},
   "outputs": [],
   "source": [
    "# load packages\n",
    "# ----\n",
    "from sklearn.feature_extraction.text import TfidfVectorizer\n",
    "from sklearn.decomposition import LatentDirichletAllocation"
   ]
  },
  {
   "cell_type": "code",
   "execution_count": 29,
   "metadata": {},
   "outputs": [
    {
     "data": {
      "text/html": [
       "<div>\n",
       "<style scoped>\n",
       "    .dataframe tbody tr th:only-of-type {\n",
       "        vertical-align: middle;\n",
       "    }\n",
       "\n",
       "    .dataframe tbody tr th {\n",
       "        vertical-align: top;\n",
       "    }\n",
       "\n",
       "    .dataframe thead th {\n",
       "        text-align: right;\n",
       "    }\n",
       "</style>\n",
       "<table border=\"1\" class=\"dataframe\">\n",
       "  <thead>\n",
       "    <tr style=\"text-align: right;\">\n",
       "      <th></th>\n",
       "      <th>10</th>\n",
       "      <th>100</th>\n",
       "      <th>1000</th>\n",
       "      <th>10000</th>\n",
       "      <th>100000</th>\n",
       "      <th>100k</th>\n",
       "      <th>100th</th>\n",
       "      <th>101</th>\n",
       "      <th>102</th>\n",
       "      <th>1030</th>\n",
       "      <th>...</th>\n",
       "      <th>yovanovitch</th>\n",
       "      <th>yr</th>\n",
       "      <th>yrs</th>\n",
       "      <th>zachary</th>\n",
       "      <th>zelensky</th>\n",
       "      <th>zero</th>\n",
       "      <th>zip</th>\n",
       "      <th>zone</th>\n",
       "      <th>zoom</th>\n",
       "      <th>zuckerberg</th>\n",
       "    </tr>\n",
       "  </thead>\n",
       "  <tbody>\n",
       "    <tr>\n",
       "      <th>0</th>\n",
       "      <td>0.0</td>\n",
       "      <td>0.0</td>\n",
       "      <td>0.0</td>\n",
       "      <td>0.0</td>\n",
       "      <td>0.0</td>\n",
       "      <td>0.0</td>\n",
       "      <td>0.0</td>\n",
       "      <td>0.0</td>\n",
       "      <td>0.0</td>\n",
       "      <td>0.0</td>\n",
       "      <td>...</td>\n",
       "      <td>0.0</td>\n",
       "      <td>0.0</td>\n",
       "      <td>0.0</td>\n",
       "      <td>0.0</td>\n",
       "      <td>0.0</td>\n",
       "      <td>0.0</td>\n",
       "      <td>0.0</td>\n",
       "      <td>0.0</td>\n",
       "      <td>0.0</td>\n",
       "      <td>0.0</td>\n",
       "    </tr>\n",
       "    <tr>\n",
       "      <th>1</th>\n",
       "      <td>0.0</td>\n",
       "      <td>0.0</td>\n",
       "      <td>0.0</td>\n",
       "      <td>0.0</td>\n",
       "      <td>0.0</td>\n",
       "      <td>0.0</td>\n",
       "      <td>0.0</td>\n",
       "      <td>0.0</td>\n",
       "      <td>0.0</td>\n",
       "      <td>0.0</td>\n",
       "      <td>...</td>\n",
       "      <td>0.0</td>\n",
       "      <td>0.0</td>\n",
       "      <td>0.0</td>\n",
       "      <td>0.0</td>\n",
       "      <td>0.0</td>\n",
       "      <td>0.0</td>\n",
       "      <td>0.0</td>\n",
       "      <td>0.0</td>\n",
       "      <td>0.0</td>\n",
       "      <td>0.0</td>\n",
       "    </tr>\n",
       "    <tr>\n",
       "      <th>2</th>\n",
       "      <td>0.0</td>\n",
       "      <td>0.0</td>\n",
       "      <td>0.0</td>\n",
       "      <td>0.0</td>\n",
       "      <td>0.0</td>\n",
       "      <td>0.0</td>\n",
       "      <td>0.0</td>\n",
       "      <td>0.0</td>\n",
       "      <td>0.0</td>\n",
       "      <td>0.0</td>\n",
       "      <td>...</td>\n",
       "      <td>0.0</td>\n",
       "      <td>0.0</td>\n",
       "      <td>0.0</td>\n",
       "      <td>0.0</td>\n",
       "      <td>0.0</td>\n",
       "      <td>0.0</td>\n",
       "      <td>0.0</td>\n",
       "      <td>0.0</td>\n",
       "      <td>0.0</td>\n",
       "      <td>0.0</td>\n",
       "    </tr>\n",
       "    <tr>\n",
       "      <th>3</th>\n",
       "      <td>0.0</td>\n",
       "      <td>0.0</td>\n",
       "      <td>0.0</td>\n",
       "      <td>0.0</td>\n",
       "      <td>0.0</td>\n",
       "      <td>0.0</td>\n",
       "      <td>0.0</td>\n",
       "      <td>0.0</td>\n",
       "      <td>0.0</td>\n",
       "      <td>0.0</td>\n",
       "      <td>...</td>\n",
       "      <td>0.0</td>\n",
       "      <td>0.0</td>\n",
       "      <td>0.0</td>\n",
       "      <td>0.0</td>\n",
       "      <td>0.0</td>\n",
       "      <td>0.0</td>\n",
       "      <td>0.0</td>\n",
       "      <td>0.0</td>\n",
       "      <td>0.0</td>\n",
       "      <td>0.0</td>\n",
       "    </tr>\n",
       "    <tr>\n",
       "      <th>4</th>\n",
       "      <td>0.0</td>\n",
       "      <td>0.0</td>\n",
       "      <td>0.0</td>\n",
       "      <td>0.0</td>\n",
       "      <td>0.0</td>\n",
       "      <td>0.0</td>\n",
       "      <td>0.0</td>\n",
       "      <td>0.0</td>\n",
       "      <td>0.0</td>\n",
       "      <td>0.0</td>\n",
       "      <td>...</td>\n",
       "      <td>0.0</td>\n",
       "      <td>0.0</td>\n",
       "      <td>0.0</td>\n",
       "      <td>0.0</td>\n",
       "      <td>0.0</td>\n",
       "      <td>0.0</td>\n",
       "      <td>0.0</td>\n",
       "      <td>0.0</td>\n",
       "      <td>0.0</td>\n",
       "      <td>0.0</td>\n",
       "    </tr>\n",
       "  </tbody>\n",
       "</table>\n",
       "<p>5 rows × 5981 columns</p>\n",
       "</div>"
      ],
      "text/plain": [
       "    10  100  1000  10000  100000  100k  100th  101  102  1030  ...  \\\n",
       "0  0.0  0.0   0.0    0.0     0.0   0.0    0.0  0.0  0.0   0.0  ...   \n",
       "1  0.0  0.0   0.0    0.0     0.0   0.0    0.0  0.0  0.0   0.0  ...   \n",
       "2  0.0  0.0   0.0    0.0     0.0   0.0    0.0  0.0  0.0   0.0  ...   \n",
       "3  0.0  0.0   0.0    0.0     0.0   0.0    0.0  0.0  0.0   0.0  ...   \n",
       "4  0.0  0.0   0.0    0.0     0.0   0.0    0.0  0.0  0.0   0.0  ...   \n",
       "\n",
       "   yovanovitch   yr  yrs  zachary  zelensky  zero  zip  zone  zoom  zuckerberg  \n",
       "0          0.0  0.0  0.0      0.0       0.0   0.0  0.0   0.0   0.0         0.0  \n",
       "1          0.0  0.0  0.0      0.0       0.0   0.0  0.0   0.0   0.0         0.0  \n",
       "2          0.0  0.0  0.0      0.0       0.0   0.0  0.0   0.0   0.0         0.0  \n",
       "3          0.0  0.0  0.0      0.0       0.0   0.0  0.0   0.0   0.0         0.0  \n",
       "4          0.0  0.0  0.0      0.0       0.0   0.0  0.0   0.0   0.0         0.0  \n",
       "\n",
       "[5 rows x 5981 columns]"
      ]
     },
     "execution_count": 29,
     "metadata": {},
     "output_type": "execute_result"
    }
   ],
   "source": [
    "# create tf-idf matrix\n",
    "# ----\n",
    "tfidf = TfidfVectorizer(min_df = 5)  # ignore terms that have a document frequency less than 5 (cut-off)\n",
    "tfidf_mx = tfidf.fit_transform(tweets['tokens_text'])\n",
    "\n",
    "# convert matrix to an arrray and then to a dataframe\n",
    "tfidf_df = pd.DataFrame(\n",
    "\tdata = tfidf_mx.toarray(),\n",
    "\tcolumns = tfidf.get_feature_names_out())\n",
    "\n",
    "tfidf_df.head()"
   ]
  },
  {
   "cell_type": "code",
   "execution_count": 30,
   "metadata": {},
   "outputs": [
    {
     "data": {
      "text/html": [
       "<div>\n",
       "<style scoped>\n",
       "    .dataframe tbody tr th:only-of-type {\n",
       "        vertical-align: middle;\n",
       "    }\n",
       "\n",
       "    .dataframe tbody tr th {\n",
       "        vertical-align: top;\n",
       "    }\n",
       "\n",
       "    .dataframe thead th {\n",
       "        text-align: right;\n",
       "    }\n",
       "</style>\n",
       "<table border=\"1\" class=\"dataframe\">\n",
       "  <thead>\n",
       "    <tr style=\"text-align: right;\">\n",
       "      <th></th>\n",
       "      <th>0</th>\n",
       "      <th>1</th>\n",
       "      <th>2</th>\n",
       "      <th>3</th>\n",
       "      <th>4</th>\n",
       "      <th>5</th>\n",
       "      <th>6</th>\n",
       "      <th>7</th>\n",
       "      <th>8</th>\n",
       "      <th>9</th>\n",
       "      <th>...</th>\n",
       "      <th>14939</th>\n",
       "      <th>14940</th>\n",
       "      <th>14941</th>\n",
       "      <th>14942</th>\n",
       "      <th>14943</th>\n",
       "      <th>14944</th>\n",
       "      <th>14945</th>\n",
       "      <th>14946</th>\n",
       "      <th>14947</th>\n",
       "      <th>14948</th>\n",
       "    </tr>\n",
       "  </thead>\n",
       "  <tbody>\n",
       "    <tr>\n",
       "      <th>bud</th>\n",
       "      <td>0.0</td>\n",
       "      <td>0.414665</td>\n",
       "      <td>0.0</td>\n",
       "      <td>0.0</td>\n",
       "      <td>0.0</td>\n",
       "      <td>0.0</td>\n",
       "      <td>0.0</td>\n",
       "      <td>0.0</td>\n",
       "      <td>0.0</td>\n",
       "      <td>0.0</td>\n",
       "      <td>...</td>\n",
       "      <td>0.0</td>\n",
       "      <td>0.0</td>\n",
       "      <td>0.0</td>\n",
       "      <td>0.0</td>\n",
       "      <td>0.0</td>\n",
       "      <td>0.0</td>\n",
       "      <td>0.0</td>\n",
       "      <td>0.0</td>\n",
       "      <td>0.0</td>\n",
       "      <td>0.0</td>\n",
       "    </tr>\n",
       "    <tr>\n",
       "      <th>innovator</th>\n",
       "      <td>0.0</td>\n",
       "      <td>0.397600</td>\n",
       "      <td>0.0</td>\n",
       "      <td>0.0</td>\n",
       "      <td>0.0</td>\n",
       "      <td>0.0</td>\n",
       "      <td>0.0</td>\n",
       "      <td>0.0</td>\n",
       "      <td>0.0</td>\n",
       "      <td>0.0</td>\n",
       "      <td>...</td>\n",
       "      <td>0.0</td>\n",
       "      <td>0.0</td>\n",
       "      <td>0.0</td>\n",
       "      <td>0.0</td>\n",
       "      <td>0.0</td>\n",
       "      <td>0.0</td>\n",
       "      <td>0.0</td>\n",
       "      <td>0.0</td>\n",
       "      <td>0.0</td>\n",
       "      <td>0.0</td>\n",
       "    </tr>\n",
       "    <tr>\n",
       "      <th>congressionalac</th>\n",
       "      <td>0.0</td>\n",
       "      <td>0.393039</td>\n",
       "      <td>0.0</td>\n",
       "      <td>0.0</td>\n",
       "      <td>0.0</td>\n",
       "      <td>0.0</td>\n",
       "      <td>0.0</td>\n",
       "      <td>0.0</td>\n",
       "      <td>0.0</td>\n",
       "      <td>0.0</td>\n",
       "      <td>...</td>\n",
       "      <td>0.0</td>\n",
       "      <td>0.0</td>\n",
       "      <td>0.0</td>\n",
       "      <td>0.0</td>\n",
       "      <td>0.0</td>\n",
       "      <td>0.0</td>\n",
       "      <td>0.0</td>\n",
       "      <td>0.0</td>\n",
       "      <td>0.0</td>\n",
       "      <td>0.0</td>\n",
       "    </tr>\n",
       "    <tr>\n",
       "      <th>engineer</th>\n",
       "      <td>0.0</td>\n",
       "      <td>0.359875</td>\n",
       "      <td>0.0</td>\n",
       "      <td>0.0</td>\n",
       "      <td>0.0</td>\n",
       "      <td>0.0</td>\n",
       "      <td>0.0</td>\n",
       "      <td>0.0</td>\n",
       "      <td>0.0</td>\n",
       "      <td>0.0</td>\n",
       "      <td>...</td>\n",
       "      <td>0.0</td>\n",
       "      <td>0.0</td>\n",
       "      <td>0.0</td>\n",
       "      <td>0.0</td>\n",
       "      <td>0.0</td>\n",
       "      <td>0.0</td>\n",
       "      <td>0.0</td>\n",
       "      <td>0.0</td>\n",
       "      <td>0.0</td>\n",
       "      <td>0.0</td>\n",
       "    </tr>\n",
       "    <tr>\n",
       "      <th>app</th>\n",
       "      <td>0.0</td>\n",
       "      <td>0.328936</td>\n",
       "      <td>0.0</td>\n",
       "      <td>0.0</td>\n",
       "      <td>0.0</td>\n",
       "      <td>0.0</td>\n",
       "      <td>0.0</td>\n",
       "      <td>0.0</td>\n",
       "      <td>0.0</td>\n",
       "      <td>0.0</td>\n",
       "      <td>...</td>\n",
       "      <td>0.0</td>\n",
       "      <td>0.0</td>\n",
       "      <td>0.0</td>\n",
       "      <td>0.0</td>\n",
       "      <td>0.0</td>\n",
       "      <td>0.0</td>\n",
       "      <td>0.0</td>\n",
       "      <td>0.0</td>\n",
       "      <td>0.0</td>\n",
       "      <td>0.0</td>\n",
       "    </tr>\n",
       "    <tr>\n",
       "      <th>submit</th>\n",
       "      <td>0.0</td>\n",
       "      <td>0.314324</td>\n",
       "      <td>0.0</td>\n",
       "      <td>0.0</td>\n",
       "      <td>0.0</td>\n",
       "      <td>0.0</td>\n",
       "      <td>0.0</td>\n",
       "      <td>0.0</td>\n",
       "      <td>0.0</td>\n",
       "      <td>0.0</td>\n",
       "      <td>...</td>\n",
       "      <td>0.0</td>\n",
       "      <td>0.0</td>\n",
       "      <td>0.0</td>\n",
       "      <td>0.0</td>\n",
       "      <td>0.0</td>\n",
       "      <td>0.0</td>\n",
       "      <td>0.0</td>\n",
       "      <td>0.0</td>\n",
       "      <td>0.0</td>\n",
       "      <td>0.0</td>\n",
       "    </tr>\n",
       "    <tr>\n",
       "      <th>tech</th>\n",
       "      <td>0.0</td>\n",
       "      <td>0.302487</td>\n",
       "      <td>0.0</td>\n",
       "      <td>0.0</td>\n",
       "      <td>0.0</td>\n",
       "      <td>0.0</td>\n",
       "      <td>0.0</td>\n",
       "      <td>0.0</td>\n",
       "      <td>0.0</td>\n",
       "      <td>0.0</td>\n",
       "      <td>...</td>\n",
       "      <td>0.0</td>\n",
       "      <td>0.0</td>\n",
       "      <td>0.0</td>\n",
       "      <td>0.0</td>\n",
       "      <td>0.0</td>\n",
       "      <td>0.0</td>\n",
       "      <td>0.0</td>\n",
       "      <td>0.0</td>\n",
       "      <td>0.0</td>\n",
       "      <td>0.0</td>\n",
       "    </tr>\n",
       "    <tr>\n",
       "      <th>chance</th>\n",
       "      <td>0.0</td>\n",
       "      <td>0.295771</td>\n",
       "      <td>0.0</td>\n",
       "      <td>0.0</td>\n",
       "      <td>0.0</td>\n",
       "      <td>0.0</td>\n",
       "      <td>0.0</td>\n",
       "      <td>0.0</td>\n",
       "      <td>0.0</td>\n",
       "      <td>0.0</td>\n",
       "      <td>...</td>\n",
       "      <td>0.0</td>\n",
       "      <td>0.0</td>\n",
       "      <td>0.0</td>\n",
       "      <td>0.0</td>\n",
       "      <td>0.0</td>\n",
       "      <td>0.0</td>\n",
       "      <td>0.0</td>\n",
       "      <td>0.0</td>\n",
       "      <td>0.0</td>\n",
       "      <td>0.0</td>\n",
       "    </tr>\n",
       "    <tr>\n",
       "      <th>10</th>\n",
       "      <td>0.0</td>\n",
       "      <td>0.000000</td>\n",
       "      <td>0.0</td>\n",
       "      <td>0.0</td>\n",
       "      <td>0.0</td>\n",
       "      <td>0.0</td>\n",
       "      <td>0.0</td>\n",
       "      <td>0.0</td>\n",
       "      <td>0.0</td>\n",
       "      <td>0.0</td>\n",
       "      <td>...</td>\n",
       "      <td>0.0</td>\n",
       "      <td>0.0</td>\n",
       "      <td>0.0</td>\n",
       "      <td>0.0</td>\n",
       "      <td>0.0</td>\n",
       "      <td>0.0</td>\n",
       "      <td>0.0</td>\n",
       "      <td>0.0</td>\n",
       "      <td>0.0</td>\n",
       "      <td>0.0</td>\n",
       "    </tr>\n",
       "    <tr>\n",
       "      <th>100</th>\n",
       "      <td>0.0</td>\n",
       "      <td>0.000000</td>\n",
       "      <td>0.0</td>\n",
       "      <td>0.0</td>\n",
       "      <td>0.0</td>\n",
       "      <td>0.0</td>\n",
       "      <td>0.0</td>\n",
       "      <td>0.0</td>\n",
       "      <td>0.0</td>\n",
       "      <td>0.0</td>\n",
       "      <td>...</td>\n",
       "      <td>0.0</td>\n",
       "      <td>0.0</td>\n",
       "      <td>0.0</td>\n",
       "      <td>0.0</td>\n",
       "      <td>0.0</td>\n",
       "      <td>0.0</td>\n",
       "      <td>0.0</td>\n",
       "      <td>0.0</td>\n",
       "      <td>0.0</td>\n",
       "      <td>0.0</td>\n",
       "    </tr>\n",
       "  </tbody>\n",
       "</table>\n",
       "<p>10 rows × 14949 columns</p>\n",
       "</div>"
      ],
      "text/plain": [
       "                 0         1      2      3      4      5      6      7      \\\n",
       "bud                0.0  0.414665    0.0    0.0    0.0    0.0    0.0    0.0   \n",
       "innovator          0.0  0.397600    0.0    0.0    0.0    0.0    0.0    0.0   \n",
       "congressionalac    0.0  0.393039    0.0    0.0    0.0    0.0    0.0    0.0   \n",
       "engineer           0.0  0.359875    0.0    0.0    0.0    0.0    0.0    0.0   \n",
       "app                0.0  0.328936    0.0    0.0    0.0    0.0    0.0    0.0   \n",
       "submit             0.0  0.314324    0.0    0.0    0.0    0.0    0.0    0.0   \n",
       "tech               0.0  0.302487    0.0    0.0    0.0    0.0    0.0    0.0   \n",
       "chance             0.0  0.295771    0.0    0.0    0.0    0.0    0.0    0.0   \n",
       "10                 0.0  0.000000    0.0    0.0    0.0    0.0    0.0    0.0   \n",
       "100                0.0  0.000000    0.0    0.0    0.0    0.0    0.0    0.0   \n",
       "\n",
       "                 8      9      ...  14939  14940  14941  14942  14943  14944  \\\n",
       "bud                0.0    0.0  ...    0.0    0.0    0.0    0.0    0.0    0.0   \n",
       "innovator          0.0    0.0  ...    0.0    0.0    0.0    0.0    0.0    0.0   \n",
       "congressionalac    0.0    0.0  ...    0.0    0.0    0.0    0.0    0.0    0.0   \n",
       "engineer           0.0    0.0  ...    0.0    0.0    0.0    0.0    0.0    0.0   \n",
       "app                0.0    0.0  ...    0.0    0.0    0.0    0.0    0.0    0.0   \n",
       "submit             0.0    0.0  ...    0.0    0.0    0.0    0.0    0.0    0.0   \n",
       "tech               0.0    0.0  ...    0.0    0.0    0.0    0.0    0.0    0.0   \n",
       "chance             0.0    0.0  ...    0.0    0.0    0.0    0.0    0.0    0.0   \n",
       "10                 0.0    0.0  ...    0.0    0.0    0.0    0.0    0.0    0.0   \n",
       "100                0.0    0.0  ...    0.0    0.0    0.0    0.0    0.0    0.0   \n",
       "\n",
       "                 14945  14946  14947  14948  \n",
       "bud                0.0    0.0    0.0    0.0  \n",
       "innovator          0.0    0.0    0.0    0.0  \n",
       "congressionalac    0.0    0.0    0.0    0.0  \n",
       "engineer           0.0    0.0    0.0    0.0  \n",
       "app                0.0    0.0    0.0    0.0  \n",
       "submit             0.0    0.0    0.0    0.0  \n",
       "tech               0.0    0.0    0.0    0.0  \n",
       "chance             0.0    0.0    0.0    0.0  \n",
       "10                 0.0    0.0    0.0    0.0  \n",
       "100                0.0    0.0    0.0    0.0  \n",
       "\n",
       "[10 rows x 14949 columns]"
      ]
     },
     "execution_count": 30,
     "metadata": {},
     "output_type": "execute_result"
    }
   ],
   "source": [
    "# check (ten largest tfidf words in doc #1)\n",
    "tfidf_df.T.nlargest(10, 1)"
   ]
  },
  {
   "cell_type": "code",
   "execution_count": 31,
   "metadata": {},
   "outputs": [
    {
     "data": {
      "text/html": [
       "<style>#sk-container-id-1 {color: black;}#sk-container-id-1 pre{padding: 0;}#sk-container-id-1 div.sk-toggleable {background-color: white;}#sk-container-id-1 label.sk-toggleable__label {cursor: pointer;display: block;width: 100%;margin-bottom: 0;padding: 0.3em;box-sizing: border-box;text-align: center;}#sk-container-id-1 label.sk-toggleable__label-arrow:before {content: \"▸\";float: left;margin-right: 0.25em;color: #696969;}#sk-container-id-1 label.sk-toggleable__label-arrow:hover:before {color: black;}#sk-container-id-1 div.sk-estimator:hover label.sk-toggleable__label-arrow:before {color: black;}#sk-container-id-1 div.sk-toggleable__content {max-height: 0;max-width: 0;overflow: hidden;text-align: left;background-color: #f0f8ff;}#sk-container-id-1 div.sk-toggleable__content pre {margin: 0.2em;color: black;border-radius: 0.25em;background-color: #f0f8ff;}#sk-container-id-1 input.sk-toggleable__control:checked~div.sk-toggleable__content {max-height: 200px;max-width: 100%;overflow: auto;}#sk-container-id-1 input.sk-toggleable__control:checked~label.sk-toggleable__label-arrow:before {content: \"▾\";}#sk-container-id-1 div.sk-estimator input.sk-toggleable__control:checked~label.sk-toggleable__label {background-color: #d4ebff;}#sk-container-id-1 div.sk-label input.sk-toggleable__control:checked~label.sk-toggleable__label {background-color: #d4ebff;}#sk-container-id-1 input.sk-hidden--visually {border: 0;clip: rect(1px 1px 1px 1px);clip: rect(1px, 1px, 1px, 1px);height: 1px;margin: -1px;overflow: hidden;padding: 0;position: absolute;width: 1px;}#sk-container-id-1 div.sk-estimator {font-family: monospace;background-color: #f0f8ff;border: 1px dotted black;border-radius: 0.25em;box-sizing: border-box;margin-bottom: 0.5em;}#sk-container-id-1 div.sk-estimator:hover {background-color: #d4ebff;}#sk-container-id-1 div.sk-parallel-item::after {content: \"\";width: 100%;border-bottom: 1px solid gray;flex-grow: 1;}#sk-container-id-1 div.sk-label:hover label.sk-toggleable__label {background-color: #d4ebff;}#sk-container-id-1 div.sk-serial::before {content: \"\";position: absolute;border-left: 1px solid gray;box-sizing: border-box;top: 0;bottom: 0;left: 50%;z-index: 0;}#sk-container-id-1 div.sk-serial {display: flex;flex-direction: column;align-items: center;background-color: white;padding-right: 0.2em;padding-left: 0.2em;position: relative;}#sk-container-id-1 div.sk-item {position: relative;z-index: 1;}#sk-container-id-1 div.sk-parallel {display: flex;align-items: stretch;justify-content: center;background-color: white;position: relative;}#sk-container-id-1 div.sk-item::before, #sk-container-id-1 div.sk-parallel-item::before {content: \"\";position: absolute;border-left: 1px solid gray;box-sizing: border-box;top: 0;bottom: 0;left: 50%;z-index: -1;}#sk-container-id-1 div.sk-parallel-item {display: flex;flex-direction: column;z-index: 1;position: relative;background-color: white;}#sk-container-id-1 div.sk-parallel-item:first-child::after {align-self: flex-end;width: 50%;}#sk-container-id-1 div.sk-parallel-item:last-child::after {align-self: flex-start;width: 50%;}#sk-container-id-1 div.sk-parallel-item:only-child::after {width: 0;}#sk-container-id-1 div.sk-dashed-wrapped {border: 1px dashed gray;margin: 0 0.4em 0.5em 0.4em;box-sizing: border-box;padding-bottom: 0.4em;background-color: white;}#sk-container-id-1 div.sk-label label {font-family: monospace;font-weight: bold;display: inline-block;line-height: 1.2em;}#sk-container-id-1 div.sk-label-container {text-align: center;}#sk-container-id-1 div.sk-container {/* jupyter's `normalize.less` sets `[hidden] { display: none; }` but bootstrap.min.css set `[hidden] { display: none !important; }` so we also need the `!important` here to be able to override the default hidden behavior on the sphinx rendered scikit-learn.org. See: https://github.com/scikit-learn/scikit-learn/issues/21755 */display: inline-block !important;position: relative;}#sk-container-id-1 div.sk-text-repr-fallback {display: none;}</style><div id=\"sk-container-id-1\" class=\"sk-top-container\"><div class=\"sk-text-repr-fallback\"><pre>LatentDirichletAllocation(max_iter=20, n_components=5, random_state=224)</pre><b>In a Jupyter environment, please rerun this cell to show the HTML representation or trust the notebook. <br />On GitHub, the HTML representation is unable to render, please try loading this page with nbviewer.org.</b></div><div class=\"sk-container\" hidden><div class=\"sk-item\"><div class=\"sk-estimator sk-toggleable\"><input class=\"sk-toggleable__control sk-hidden--visually\" id=\"sk-estimator-id-1\" type=\"checkbox\" checked><label for=\"sk-estimator-id-1\" class=\"sk-toggleable__label sk-toggleable__label-arrow\">LatentDirichletAllocation</label><div class=\"sk-toggleable__content\"><pre>LatentDirichletAllocation(max_iter=20, n_components=5, random_state=224)</pre></div></div></div></div></div>"
      ],
      "text/plain": [
       "LatentDirichletAllocation(max_iter=20, n_components=5, random_state=224)"
      ]
     },
     "execution_count": 31,
     "metadata": {},
     "output_type": "execute_result"
    }
   ],
   "source": [
    "# train adn fit a LDA model\n",
    "# ----\n",
    "lda = LatentDirichletAllocation(\n",
    "\tn_components = 5,    # adjust the # of components\n",
    "\tmax_iter = 20,       # adjust the # of iterations to fit model\n",
    "\trandom_state = 224)  # set seed for reproducibility\n",
    "\n",
    "lda.fit(tfidf_mx)"
   ]
  },
  {
   "cell_type": "code",
   "execution_count": 32,
   "metadata": {},
   "outputs": [
    {
     "name": "stdout",
     "output_type": "stream",
     "text": [
      "\n",
      "topic_0:\n",
      "covid19 rt join pm visit tune county discuss office de live coronavirus town help update hall today information stay question\n",
      "\n",
      "topic_1:\n",
      "rt president trump qt realdonaldtrump people house vote american election democrats impeachment border congress right administration time security china report\n",
      "\n",
      "topic_2:\n",
      "today community work thank life act woman rt fight day right protect family year time support law veteran need proud\n",
      "\n",
      "topic_3:\n",
      "thank great honor rt congratulation today serve service year happy day good qt nation work country member state proud student\n",
      "\n",
      "topic_4:\n",
      "business need work help small health worker care relief bill rt family million act support pass program covid19 job provide\n",
      "\n"
     ]
    }
   ],
   "source": [
    "# view the top words of each topic\n",
    "# ----\n",
    "def print_top_words(model, feature_names, n_top_words): \n",
    "    for topic_idx, topic in enumerate(model.components_):  # iterate over each topic \n",
    "        print(\"\\ntopic_{}:\".format(topic_idx))            # print topic index\n",
    "        print(\" \".join([feature_names[i]                   # print topics\n",
    "                        for i in topic.argsort()[:-n_top_words - 1:-1]]))\n",
    "    print()\n",
    "\n",
    "print_top_words(lda,                             # model \n",
    "                tfidf.get_feature_names_out(),   # feature names \n",
    "                20)                              # number of top words"
   ]
  },
  {
   "cell_type": "code",
   "execution_count": 33,
   "metadata": {},
   "outputs": [
    {
     "name": "stdout",
     "output_type": "stream",
     "text": [
      "party\n",
      "Democrat      0.155783\n",
      "Republican    0.166348\n",
      "Name: topic_0, dtype: float64 \n",
      "\n",
      "party\n",
      "Democrat      0.267667\n",
      "Republican    0.280755\n",
      "Name: topic_1, dtype: float64 \n",
      "\n",
      "party\n",
      "Democrat      0.228332\n",
      "Republican    0.178759\n",
      "Name: topic_2, dtype: float64 \n",
      "\n",
      "party\n",
      "Democrat      0.118710\n",
      "Republican    0.163773\n",
      "Name: topic_3, dtype: float64 \n",
      "\n",
      "party\n",
      "Democrat      0.229507\n",
      "Republican    0.210364\n",
      "Name: topic_4, dtype: float64 \n",
      "\n"
     ]
    }
   ],
   "source": [
    "# get the topic distribution and calculate group mean\n",
    "# ----\n",
    "col_names = ['topic_0', 'topic_1', 'topic_2', 'topic_3', 'topic_4']\n",
    "topic_dist = pd.DataFrame(\n",
    "    lda.transform(tfidf_mx),\n",
    "    columns = col_names)\n",
    "\n",
    "# join back to pandas dataframe and reset index\n",
    "tweets = tweets.join(topic_dist)\n",
    "\n",
    "# group by loan products and calculate mean\n",
    "for i in col_names:\n",
    "    print(tweets.groupby('party')[i].agg('mean'), '\\n')"
   ]
  },
  {
   "cell_type": "code",
   "execution_count": 34,
   "metadata": {},
   "outputs": [
    {
     "data": {
      "image/png": "[encoded data removed]",
      "text/plain": [
       "<Figure size 626.75x500 with 1 Axes>"
      ]
     },
     "metadata": {},
     "output_type": "display_data"
    }
   ],
   "source": [
    "# plot distribution of topic 2\n",
    "## democrats seem to be tweeting more about topic 2\n",
    "sns.displot(tweets, \n",
    "            x = tweets['topic_2'],\n",
    "            hue = 'party',   \n",
    "            multiple = 'dodge',\n",
    "            stat = 'probability',\n",
    "            common_norm = False,\n",
    "            bins = 10)\n",
    "plt.show()"
   ]
  },
  {
   "cell_type": "markdown",
   "metadata": {},
   "source": [
    "## 3. Sentiment Analysis"
   ]
  },
  {
   "cell_type": "markdown",
   "metadata": {},
   "source": [
    "Next, let's analyze the sentiments contained within the tweets. You may use TextBlob or another library for these tasks. Do the following:\n",
    "\n",
    "* Choose two legislators, one who you think will be more liberal and one who you think will be more conservative, and analyze their sentiment and/or subjectivity scores per tweet. For instance, you might do two scatterplots that plot each legislator's sentiment against their subjectivity, or two density plots for their sentiments. Do the scores match what you thought?\n",
    "* Plot two more visualizations like the ones you chose in the first part, but do them to compare (1) Democrats v. Republicans and (2) Senators v. Representatives "
   ]
  },
  {
   "cell_type": "markdown",
   "metadata": {},
   "source": [
    "### 3.1. Polarity Scores "
   ]
  },
  {
   "cell_type": "code",
   "execution_count": 35,
   "metadata": {},
   "outputs": [],
   "source": [
    "# load packages\n",
    "# ----\n",
    "from textblob import TextBlob"
   ]
  },
  {
   "cell_type": "code",
   "execution_count": 36,
   "metadata": {},
   "outputs": [
    {
     "data": {
      "image/png": "[encoded data removed]",
      "text/plain": [
       "<Figure size 500x500 with 1 Axes>"
      ]
     },
     "metadata": {},
     "output_type": "display_data"
    }
   ],
   "source": [
    "# create polarity column\n",
    "# ----\n",
    "tweets['polarity'] = tweets['text'].map(lambda text: TextBlob(text).sentiment.polarity)\n",
    "\n",
    "# plot\n",
    "sns.displot(tweets,\n",
    "            x = 'polarity',\n",
    "            bins = 20);"
   ]
  },
  {
   "cell_type": "code",
   "execution_count": 37,
   "metadata": {
    "scrolled": true
   },
   "outputs": [
    {
     "name": "stdout",
     "output_type": "stream",
     "text": [
      "5 most positive tweets: \n",
      "\n",
      "---- \n",
      " Incredible story. Never stop singing, Lavender! Thank you for being you. \n",
      "\n",
      "http://www.sentinelandenterprise.com/news/ci_32704388/video-blind-autistic-fitchburg-singer-goes-viral \n",
      "\n",
      "---- \n",
      " RT @patagonia Thank you @BettyMcCollum04, @NRDems, @savethebwca, @sportsmenbwca, @Backcountry_H_A &amp; everyone else for your work to help push HR5598 through the committee and to the floor in order to protect the Boundary Waters!\n",
      "#savethebwca https://twitter.com/savethebwca/status/1311454204909633541 QT @savethebwca Great news for the Boundary Waters! @BettyMcCollum04’s bill to protect the BWCA from mining just passed committee and heads to the floor. Join us in thanking Rep. McCollum for her leadership to #savethebwca\n",
      "http://savetheboundarywaters.org/updates/hr5598-passes-out-us-house-natural-resources-committee http://pbs.twimg.com/media/EjM4l1XU8AArBZM.jpg \n",
      "\n",
      "---- \n",
      " Want to wish my dear friend, colleague, and Fab Four sister @RepDean a very happy birthday! Cheers to you friend — I hope you have a wonderful day ❤️ http://pbs.twimg.com/media/EZ1n_OYWoAA95ar.jpg http://pbs.twimg.com/media/EZ1n_OaXsAAmKlC.jpg http://pbs.twimg.com/media/EZ1n_OaWsAAODoh.jpg http://pbs.twimg.com/media/EZ1n_OZWkAANzgZ.jpg \n",
      "\n",
      "---- \n",
      " RT @RepMaryIsaacson So happy @RepDwightEvans came by to help out and say hi to our neighbors and residents! It was wonderful having you! #shredding #societyhill http://pbs.twimg.com/media/EIYbVmTW4AYttIN.jpg \n",
      "\n",
      "---- \n",
      " Impressed by the work @PNNLab has done towards energy &amp; electrical grid modernization as well as their research into protecting us from cybersecurity threats. Thank you for the tour of your facilities &amp; our informative discussion! #SuzanShowsUp http://pbs.twimg.com/media/ECgaXvIXkAAea4a.jpg http://pbs.twimg.com/media/ECgaXvIXoAILEGf.jpg \n",
      "\n"
     ]
    }
   ],
   "source": [
    "# view the 5 most positive tweets\n",
    "print('5 most positive tweets: \\n')\n",
    "for t in tweets.nlargest(5, 'polarity')['text']:\n",
    "    print('---- \\n', t, '\\n')"
   ]
  },
  {
   "cell_type": "code",
   "execution_count": 38,
   "metadata": {
    "scrolled": true
   },
   "outputs": [
    {
     "name": "stdout",
     "output_type": "stream",
     "text": [
      "5 most negative tweets: \n",
      "\n",
      "---- \n",
      " Horrific and unacceptable. @HouseJudiciary will demand justice for these children and their families and accountability from this administration.\n",
      "https://www.politicususa.com/2019/05/28/democrats-demand-investigation-into-trump-migrant-child-deaths.html \n",
      "\n",
      "---- \n",
      " Today, we recognize two years since the horrific shooting at the Tree of Life Synagogue in Pittsburgh. Anti-Semitic violence continues to persist in our country, and we must work together as Americans to stamp out all forms of intolerance and hatred. \n",
      "\n",
      "---- \n",
      " “Doggett (D-San Antonio)..chairman of the House Ways &amp; Means Health Subcommittee, said Trump ‘could increase the supply and lower prices, and we’d have a surplus. Instead, we have physicians being placed in the horrible position of deciding who gets the drug &amp; who is abandoned.’” \n",
      "\n",
      "---- \n",
      " RT @theappeal .@RepPressley: \"Has the president or any member of the [coronavirus] task force raised clemency power as a method of preventing a potentially devastating outbreak [in prisons]?”\n",
      "\n",
      "Dr. Anthony Fauci, NIAID Director: \"To my knowledge, no.”\n",
      "\n",
      "https://youtu.be/a0f3hV-Q80g?t=362 \n",
      "\n",
      "---- \n",
      " Capping Medicaid funding would be devastating to those who rely on the program. @GovBillLee’s Medicaid block grant proposal will do nothing but harm Memphians. #Tennessee should follow the example set by the majority states &amp; expand #Medicaid, not limit it. #Healthcare. #Memphis https://twitter.com/memphisnews/status/1175022810391109632 QT @memphisnews Tennessee Gov. Bill Lee's proposed Medicaid block grant will do nothing but harm Memphis | Opinion http://rssfeeds.commercialappeal.com/~/606983360/0/memphis/home~Tennessee-Gov-Bill-Lees-proposed-Medicaid-block-grant-will-do-nothing-but-harm-Memphis-Opinion/ \n",
      "\n"
     ]
    }
   ],
   "source": [
    "# view the 5 most negative tweets\n",
    "print('5 most negative tweets: \\n')\n",
    "for t in tweets.nsmallest(5, 'polarity')['text']:\n",
    "    print('---- \\n', t, '\\n')"
   ]
  },
  {
   "cell_type": "code",
   "execution_count": 39,
   "metadata": {},
   "outputs": [
    {
     "data": {
      "image/png": "[encoded data removed]",
      "text/plain": [
       "<Figure size 500x500 with 1 Axes>"
      ]
     },
     "metadata": {},
     "output_type": "display_data"
    }
   ],
   "source": [
    "# create subjectivity column\n",
    "# ----\n",
    "tweets['subjectivity'] = tweets['text'].map(lambda text: TextBlob(text).sentiment.subjectivity)\n",
    "\n",
    "# plot\n",
    "sns.displot(tweets,\n",
    "            x = \"subjectivity\",\n",
    "            bins = 20);"
   ]
  },
  {
   "cell_type": "code",
   "execution_count": 40,
   "metadata": {
    "scrolled": true
   },
   "outputs": [
    {
     "name": "stdout",
     "output_type": "stream",
     "text": [
      "5 most subjective tweets: \n",
      "\n",
      "---- \n",
      " The passing of Aimee Stephens, who led the fight for transgender equality to the Supreme Court, is a loss felt by all who work to end discrimination. I send my condolences to her family and all others mourning the loss of this brave advocate for justice.\n",
      "https://www.nytimes.com/2020/05/12/us/aimee-stephens-supreme-court-dead.html \n",
      "\n",
      "---- \n",
      " RT @SenWhitehouse Soon, we will be voting on whether extreme @realDonaldTrump judicial nominee Steven Menashi deserves a lifetime seat on the federal bench. \n",
      "\n",
      "The problem is… he refused to answer ANY of our questions, Republicans and Democrats alike. http://pbs.twimg.com/ext_tw_video_thumb/1182398493291417603/pu/img/cIGqoJCgsOodw0xT.jpg https://video.twimg.com/ext_tw_video/1182398493291417603/pu/vid/320x320/WZgrvSOKKO9NUjhb.mp4?tag=10 \n",
      "\n",
      "---- \n",
      " As colleges consider reopening this fall, it’s important to remember that students are susceptible to #COVID19. They can carry, spread, &amp; develop long-term health outcomes from the virus. Everyone needs to protect themselves from this pandemic. https://www.seattletimes.com/seattle-news/at-least-80-uw-students-in-fraternity-houses-test-positive-for-coronavirus-experts-worry-about-college-reopenings/ \n",
      "\n",
      "---- \n",
      " One year ago, I was proud to cosponsor #HR8, the Bipartisan Background Checks Act and to say #EnoughIsEnough. Our communities deserve to feel safer from gun violence, it’s time for Leader McConnell to put this bill up for a vote. \n",
      "\n",
      "---- \n",
      " Today, we remember and recognize all of those who have sacrificed for workers’ rights and the labor movement. \n",
      "\n",
      "To our brothers and sisters who continue to fight every day: \n",
      "\n",
      "We are with you. \n",
      "\n",
      "Happy #LaborDay. \n",
      "\n"
     ]
    }
   ],
   "source": [
    "# view the 5 most subjective tweets\n",
    "print('5 most subjective tweets: \\n')\n",
    "for t in tweets.nlargest(5, 'subjectivity')['text']:\n",
    "    print('---- \\n', t, '\\n')"
   ]
  },
  {
   "cell_type": "code",
   "execution_count": 41,
   "metadata": {
    "scrolled": true
   },
   "outputs": [
    {
     "name": "stdout",
     "output_type": "stream",
     "text": [
      "5 least subjective tweets: \n",
      "\n",
      "---- \n",
      " Tune in to @MSNBC today at 11:30am for my segment with @KatyTurNBC on today’s historic vote to bring articles of impeachment against Donald Trump.\n",
      "#ImpeachmentHearings #DefendOurDemocracy \n",
      "\n",
      "---- \n",
      " RT @zackhawkinsnc Dr. Ronda Taylor-Bullock, Executive Director @weare_org, will be our next guest on The Breakdown w/ @zackafhawkins to talk about the work that her org does around the systematic racism that plagues our country. 6/2 6:30p http://facebook.com/zackhawkinsnc#thebreakdownwithzack #abetternorthcarolina http://pbs.twimg.com/media/EZeBlrqX0AIHIR2.jpg \n",
      "\n",
      "---- \n",
      " RT @HomelandDems Fact check: still not a crisis.  https://www.washingtonpost.com/politics/trump-used-the-oval-office-to-try-to-create-a-border-crisis/2019/01/08/13cbe77c-139b-11e9-803c-4ef28312c8b9_story.html \n",
      "\n",
      "---- \n",
      " Estoy de acuerdo con la congresista @RepDMP https://twitter.com/alpunto/status/1147874157264138241 QT @AlPunto .@RepBMP dice que debe haber \"consecuencias severas\" tras la página en Facebook en la que miembros y exmiembros de la Patrulla Fronteriza hicieron publicaciones inapropiadas de congresistas de EEUU. ¿Qué opinas tú sobre esta polémica? http://pbs.twimg.com/amplify_video_thumb/1146551012897021952/img/9izaTwg0tngf5vcl.jpg https://video.twimg.com/amplify_video/1146551012897021952/vid/480x270/LUBOBSgTyHRgeiQc.mp4?tag=13 \n",
      "\n",
      "---- \n",
      " On Tuesday, March 12, 2019 at 7:30 AM ET, I am scheduled to appear on C-SPAN’s television program @cspanwj to discuss plans to impeach President Donald J. Trump. Contact your television provider for your local listing. Please plan to tune in. #ImpeachmentIsNotDead \n",
      "\n"
     ]
    }
   ],
   "source": [
    "# view the 5 least subjective tweets\n",
    "print('5 least subjective tweets: \\n')\n",
    "for t in tweets.nsmallest(5, 'subjectivity')['text']:\n",
    "    print('---- \\n', t, '\\n')"
   ]
  },
  {
   "cell_type": "code",
   "execution_count": 42,
   "metadata": {
    "scrolled": true
   },
   "outputs": [
    {
     "name": "stdout",
     "output_type": "stream",
     "text": [
      "overall subjectivity score is  0.0\n",
      "On 0.0\n",
      "Tuesday, 0.0\n",
      "March 0.0\n",
      "12, 0.0\n",
      "2019 0.0\n",
      "at 0.0\n",
      "7:30 0.0\n",
      "AM 0.0\n",
      "ET, 0.0\n",
      "I 0.0\n",
      "am 0.0\n",
      "scheduled 0.0\n",
      "to 0.0\n",
      "appear 0.0\n",
      "on 0.0\n",
      "C-SPAN’s 0.0\n",
      "television 0.0\n",
      "program 0.0\n",
      "@cspanwj 0.0\n",
      "to 0.0\n",
      "discuss 0.0\n",
      "plans 0.0\n",
      "to 0.0\n",
      "impeach 0.0\n",
      "President 0.0\n",
      "Donald 0.0\n",
      "J. 0.0\n",
      "Trump. 0.0\n",
      "Contact 0.0\n",
      "your 0.0\n",
      "television 0.0\n",
      "provider 0.0\n",
      "for 0.0\n",
      "your 0.0\n",
      "local 0.0\n",
      "listing. 0.0\n",
      "Please 0.0\n",
      "plan 0.0\n",
      "to 0.0\n",
      "tune 0.0\n",
      "in. 0.0\n",
      "#ImpeachmentIsNotDead 0.0\n"
     ]
    }
   ],
   "source": [
    "# check one of the least subjective tweet\n",
    "## polarity score seems to capture the sentiment of tweets better\n",
    "## will focus on polarity score in visualization part\n",
    "sample_tweet = \"On Tuesday, March 12, 2019 at 7:30 AM ET, I am scheduled to appear on C-SPAN’s television program @cspanwj to discuss plans to impeach President Donald J. Trump. Contact your television provider for your local listing. Please plan to tune in. #ImpeachmentIsNotDead\"\n",
    "\n",
    "# print polarity score\n",
    "print(\"overall subjectivity score is \", TextBlob(sample_tweet).sentiment.subjectivity)\n",
    "for word in sample_tweet.split():\n",
    "    print(word, TextBlob(word).sentiment.polarity)"
   ]
  },
  {
   "cell_type": "markdown",
   "metadata": {},
   "source": [
    "### 3.2. Visualization"
   ]
  },
  {
   "cell_type": "code",
   "execution_count": 43,
   "metadata": {},
   "outputs": [
    {
     "data": {
      "text/plain": [
       "name_wikipedia\n",
       "John Cornyn       287\n",
       "Andy Biggs        286\n",
       "Don Beyer         166\n",
       "Ted Cruz          158\n",
       "Kevin McCarthy    120\n",
       "                 ... \n",
       "David Trone         1\n",
       "Ben Sasse           1\n",
       "John Moolenaar      1\n",
       "Kenny Marchant      1\n",
       "James Inhofe        1\n",
       "Name: count, Length: 450, dtype: int64"
      ]
     },
     "execution_count": 43,
     "metadata": {},
     "output_type": "execute_result"
    }
   ],
   "source": [
    "# check \n",
    "## I'm going to compare Don Beyer with Andy Biggs, they are both a representative and tweet a lot\n",
    "## Beyer is a democrat, while Biggs a republican. May be an interesting comparison\n",
    "tweets['name_wikipedia'].value_counts()"
   ]
  },
  {
   "cell_type": "code",
   "execution_count": 44,
   "metadata": {},
   "outputs": [
    {
     "data": {
      "image/png": "[encoded data removed]",
      "text/plain": [
       "<Figure size 628.125x500 with 1 Axes>"
      ]
     },
     "metadata": {},
     "output_type": "display_data"
    }
   ],
   "source": [
    "# plot sentiment of tweets from Beyer and Biggs\n",
    "## overall, Bigg (R-rep) has more positive tweets than Beyer (D-rep)\n",
    "sns.displot(tweets[(tweets['name_wikipedia'] == 'Don Beyer') | (tweets['name_wikipedia'] == 'Andy Biggs')],\n",
    "            x = 'polarity',\n",
    "            hue = 'name_wikipedia',\n",
    "            multiple = 'dodge',\n",
    "            stat = 'probability',\n",
    "            common_norm = False,\n",
    "            bins = 20);"
   ]
  },
  {
   "cell_type": "code",
   "execution_count": 45,
   "metadata": {},
   "outputs": [
    {
     "data": {
      "image/png": "[encoded data removed]",
      "text/plain": [
       "<Figure size 626.75x500 with 1 Axes>"
      ]
     },
     "metadata": {},
     "output_type": "display_data"
    }
   ],
   "source": [
    "# plot sentiment polarity by party\n",
    "## can the above observed pattern be generalized difference b/w the two parties? seems so\n",
    "sns.displot(tweets,\n",
    "            x = 'polarity',\n",
    "            hue = 'party',\n",
    "            multiple = 'dodge',\n",
    "            stat = 'probability',\n",
    "            common_norm = False,\n",
    "            bins = 20);"
   ]
  },
  {
   "cell_type": "code",
   "execution_count": 46,
   "metadata": {},
   "outputs": [
    {
     "data": {
      "image/png": "[encoded data removed]",
      "text/plain": [
       "<Figure size 576.375x500 with 1 Axes>"
      ]
     },
     "metadata": {},
     "output_type": "display_data"
    }
   ],
   "source": [
    "# plot sentiment polarity by position\n",
    "## how about representatives vs. senators? the pattern is not as clear\n",
    "sns.displot(tweets,\n",
    "            x = 'polarity',\n",
    "            hue = 'position',\n",
    "            multiple = 'dodge',\n",
    "            stat = 'probability',\n",
    "            common_norm = False,\n",
    "            bins = 20);"
   ]
  },
  {
   "cell_type": "markdown",
   "metadata": {},
   "source": [
    "## 4. Featurization"
   ]
  },
  {
   "cell_type": "markdown",
   "metadata": {},
   "source": [
    "Before going to classification, explore different featurization techniques. Create three dataframes or arrays to represent your text features, specifically:\n",
    "\n",
    "* Features engineered from your previous analysis. For example, word counts, sentiment scores, topic model etc.\n",
    "* A term frequency-inverse document frequency matrix. \n",
    "* An embedding-based featurization (like a document averaged word2vec)\n",
    "\n",
    "In the next section, you will experiment with each of these featurization techniques to see which one produces the best classifications."
   ]
  },
  {
   "cell_type": "markdown",
   "metadata": {},
   "source": [
    "### 4.1. Engineered Text Features"
   ]
  },
  {
   "cell_type": "code",
   "execution_count": 47,
   "metadata": {},
   "outputs": [],
   "source": [
    "# create word count\n",
    "# ----\n",
    "tweets['word_count'] = tweets['text'].apply(lambda x: len(x.split()))"
   ]
  },
  {
   "cell_type": "code",
   "execution_count": 48,
   "metadata": {
    "scrolled": true
   },
   "outputs": [
    {
     "data": {
      "text/html": [
       "<div>\n",
       "<style scoped>\n",
       "    .dataframe tbody tr th:only-of-type {\n",
       "        vertical-align: middle;\n",
       "    }\n",
       "\n",
       "    .dataframe tbody tr th {\n",
       "        vertical-align: top;\n",
       "    }\n",
       "\n",
       "    .dataframe thead th {\n",
       "        text-align: right;\n",
       "    }\n",
       "</style>\n",
       "<table border=\"1\" class=\"dataframe\">\n",
       "  <thead>\n",
       "    <tr style=\"text-align: right;\">\n",
       "      <th></th>\n",
       "      <th>text</th>\n",
       "      <th>word_count</th>\n",
       "      <th>polarity</th>\n",
       "      <th>topic_0</th>\n",
       "      <th>topic_1</th>\n",
       "      <th>topic_2</th>\n",
       "      <th>topic_3</th>\n",
       "      <th>topic_4</th>\n",
       "    </tr>\n",
       "  </thead>\n",
       "  <tbody>\n",
       "    <tr>\n",
       "      <th>0</th>\n",
       "      <td>Tune in to @MSNBC today at 11:30am for my segm...</td>\n",
       "      <td>26</td>\n",
       "      <td>0.0000</td>\n",
       "      <td>0.047957</td>\n",
       "      <td>0.813007</td>\n",
       "      <td>0.046392</td>\n",
       "      <td>0.046563</td>\n",
       "      <td>0.046081</td>\n",
       "    </tr>\n",
       "    <tr>\n",
       "      <th>1</th>\n",
       "      <td>Calling all budding tech enthusiasts, coders, ...</td>\n",
       "      <td>24</td>\n",
       "      <td>0.0625</td>\n",
       "      <td>0.376300</td>\n",
       "      <td>0.053126</td>\n",
       "      <td>0.052830</td>\n",
       "      <td>0.464841</td>\n",
       "      <td>0.052902</td>\n",
       "    </tr>\n",
       "    <tr>\n",
       "      <th>2</th>\n",
       "      <td>Joining with @SpeakerPelosi and so many others...</td>\n",
       "      <td>29</td>\n",
       "      <td>0.2500</td>\n",
       "      <td>0.047438</td>\n",
       "      <td>0.047432</td>\n",
       "      <td>0.047091</td>\n",
       "      <td>0.046760</td>\n",
       "      <td>0.811278</td>\n",
       "    </tr>\n",
       "    <tr>\n",
       "      <th>3</th>\n",
       "      <td>RT @zackhawkinsnc Dr. Ronda Taylor-Bullock, Ex...</td>\n",
       "      <td>40</td>\n",
       "      <td>0.0000</td>\n",
       "      <td>0.046342</td>\n",
       "      <td>0.046329</td>\n",
       "      <td>0.255984</td>\n",
       "      <td>0.605944</td>\n",
       "      <td>0.045401</td>\n",
       "    </tr>\n",
       "    <tr>\n",
       "      <th>4</th>\n",
       "      <td>#EndQualifiedImmunity and pass Rep. Pressley &amp;...</td>\n",
       "      <td>37</td>\n",
       "      <td>0.0000</td>\n",
       "      <td>0.042785</td>\n",
       "      <td>0.826948</td>\n",
       "      <td>0.043409</td>\n",
       "      <td>0.043004</td>\n",
       "      <td>0.043853</td>\n",
       "    </tr>\n",
       "    <tr>\n",
       "      <th>...</th>\n",
       "      <td>...</td>\n",
       "      <td>...</td>\n",
       "      <td>...</td>\n",
       "      <td>...</td>\n",
       "      <td>...</td>\n",
       "      <td>...</td>\n",
       "      <td>...</td>\n",
       "      <td>...</td>\n",
       "    </tr>\n",
       "    <tr>\n",
       "      <th>14944</th>\n",
       "      <td>#LifeLibertyLevin starts NOW! Tune in to @FoxN...</td>\n",
       "      <td>10</td>\n",
       "      <td>0.0000</td>\n",
       "      <td>0.298036</td>\n",
       "      <td>0.512382</td>\n",
       "      <td>0.063141</td>\n",
       "      <td>0.063221</td>\n",
       "      <td>0.063220</td>\n",
       "    </tr>\n",
       "    <tr>\n",
       "      <th>14945</th>\n",
       "      <td>House Democrats are risking the safety and sec...</td>\n",
       "      <td>30</td>\n",
       "      <td>0.0000</td>\n",
       "      <td>0.043422</td>\n",
       "      <td>0.824713</td>\n",
       "      <td>0.043930</td>\n",
       "      <td>0.043671</td>\n",
       "      <td>0.044264</td>\n",
       "    </tr>\n",
       "    <tr>\n",
       "      <th>14946</th>\n",
       "      <td>NEWS: @JimInhofe Leads Letter Urging EPA to Co...</td>\n",
       "      <td>16</td>\n",
       "      <td>-0.2500</td>\n",
       "      <td>0.046149</td>\n",
       "      <td>0.047043</td>\n",
       "      <td>0.248515</td>\n",
       "      <td>0.046335</td>\n",
       "      <td>0.611958</td>\n",
       "    </tr>\n",
       "    <tr>\n",
       "      <th>14947</th>\n",
       "      <td>I had the pleasure of visiting with Ms. Barret...</td>\n",
       "      <td>61</td>\n",
       "      <td>0.2250</td>\n",
       "      <td>0.035641</td>\n",
       "      <td>0.037865</td>\n",
       "      <td>0.470225</td>\n",
       "      <td>0.420530</td>\n",
       "      <td>0.035739</td>\n",
       "    </tr>\n",
       "    <tr>\n",
       "      <th>14948</th>\n",
       "      <td>Proud to support paid family leave in #FY20NDA...</td>\n",
       "      <td>43</td>\n",
       "      <td>0.6500</td>\n",
       "      <td>0.035895</td>\n",
       "      <td>0.036345</td>\n",
       "      <td>0.036318</td>\n",
       "      <td>0.036292</td>\n",
       "      <td>0.855150</td>\n",
       "    </tr>\n",
       "  </tbody>\n",
       "</table>\n",
       "<p>14949 rows × 8 columns</p>\n",
       "</div>"
      ],
      "text/plain": [
       "                                                    text  word_count  \\\n",
       "0      Tune in to @MSNBC today at 11:30am for my segm...          26   \n",
       "1      Calling all budding tech enthusiasts, coders, ...          24   \n",
       "2      Joining with @SpeakerPelosi and so many others...          29   \n",
       "3      RT @zackhawkinsnc Dr. Ronda Taylor-Bullock, Ex...          40   \n",
       "4      #EndQualifiedImmunity and pass Rep. Pressley &...          37   \n",
       "...                                                  ...         ...   \n",
       "14944  #LifeLibertyLevin starts NOW! Tune in to @FoxN...          10   \n",
       "14945  House Democrats are risking the safety and sec...          30   \n",
       "14946  NEWS: @JimInhofe Leads Letter Urging EPA to Co...          16   \n",
       "14947  I had the pleasure of visiting with Ms. Barret...          61   \n",
       "14948  Proud to support paid family leave in #FY20NDA...          43   \n",
       "\n",
       "       polarity   topic_0   topic_1   topic_2   topic_3   topic_4  \n",
       "0        0.0000  0.047957  0.813007  0.046392  0.046563  0.046081  \n",
       "1        0.0625  0.376300  0.053126  0.052830  0.464841  0.052902  \n",
       "2        0.2500  0.047438  0.047432  0.047091  0.046760  0.811278  \n",
       "3        0.0000  0.046342  0.046329  0.255984  0.605944  0.045401  \n",
       "4        0.0000  0.042785  0.826948  0.043409  0.043004  0.043853  \n",
       "...         ...       ...       ...       ...       ...       ...  \n",
       "14944    0.0000  0.298036  0.512382  0.063141  0.063221  0.063220  \n",
       "14945    0.0000  0.043422  0.824713  0.043930  0.043671  0.044264  \n",
       "14946   -0.2500  0.046149  0.047043  0.248515  0.046335  0.611958  \n",
       "14947    0.2250  0.035641  0.037865  0.470225  0.420530  0.035739  \n",
       "14948    0.6500  0.035895  0.036345  0.036318  0.036292  0.855150  \n",
       "\n",
       "[14949 rows x 8 columns]"
      ]
     },
     "execution_count": 48,
     "metadata": {},
     "output_type": "execute_result"
    }
   ],
   "source": [
    "# view (engineered text features: word_count, polarity, LDA topic distribution)\n",
    "tweets[['text', 'word_count', 'polarity', 'topic_0', 'topic_1', 'topic_2', 'topic_3', 'topic_4']]"
   ]
  },
  {
   "cell_type": "code",
   "execution_count": 49,
   "metadata": {},
   "outputs": [],
   "source": [
    "# create X dataframe\n",
    "# ----\n",
    "X_engin = tweets[['word_count', 'polarity', 'topic_0', 'topic_1', 'topic_2', 'topic_3', 'topic_4']]"
   ]
  },
  {
   "cell_type": "markdown",
   "metadata": {},
   "source": [
    "### 4.2. TF-IDF "
   ]
  },
  {
   "cell_type": "code",
   "execution_count": 50,
   "metadata": {},
   "outputs": [
    {
     "data": {
      "text/html": [
       "<div>\n",
       "<style scoped>\n",
       "    .dataframe tbody tr th:only-of-type {\n",
       "        vertical-align: middle;\n",
       "    }\n",
       "\n",
       "    .dataframe tbody tr th {\n",
       "        vertical-align: top;\n",
       "    }\n",
       "\n",
       "    .dataframe thead th {\n",
       "        text-align: right;\n",
       "    }\n",
       "</style>\n",
       "<table border=\"1\" class=\"dataframe\">\n",
       "  <thead>\n",
       "    <tr style=\"text-align: right;\">\n",
       "      <th></th>\n",
       "      <th>10</th>\n",
       "      <th>100</th>\n",
       "      <th>1000</th>\n",
       "      <th>10000</th>\n",
       "      <th>100000</th>\n",
       "      <th>100k</th>\n",
       "      <th>100th</th>\n",
       "      <th>101</th>\n",
       "      <th>102</th>\n",
       "      <th>1030</th>\n",
       "      <th>...</th>\n",
       "      <th>yovanovitch</th>\n",
       "      <th>yr</th>\n",
       "      <th>yrs</th>\n",
       "      <th>zachary</th>\n",
       "      <th>zelensky</th>\n",
       "      <th>zero</th>\n",
       "      <th>zip</th>\n",
       "      <th>zone</th>\n",
       "      <th>zoom</th>\n",
       "      <th>zuckerberg</th>\n",
       "    </tr>\n",
       "  </thead>\n",
       "  <tbody>\n",
       "    <tr>\n",
       "      <th>0</th>\n",
       "      <td>0.0</td>\n",
       "      <td>0.0</td>\n",
       "      <td>0.0</td>\n",
       "      <td>0.0</td>\n",
       "      <td>0.0</td>\n",
       "      <td>0.0</td>\n",
       "      <td>0.0</td>\n",
       "      <td>0.0</td>\n",
       "      <td>0.0</td>\n",
       "      <td>0.0</td>\n",
       "      <td>...</td>\n",
       "      <td>0.0</td>\n",
       "      <td>0.0</td>\n",
       "      <td>0.0</td>\n",
       "      <td>0.0</td>\n",
       "      <td>0.0</td>\n",
       "      <td>0.0</td>\n",
       "      <td>0.0</td>\n",
       "      <td>0.0</td>\n",
       "      <td>0.0</td>\n",
       "      <td>0.0</td>\n",
       "    </tr>\n",
       "    <tr>\n",
       "      <th>1</th>\n",
       "      <td>0.0</td>\n",
       "      <td>0.0</td>\n",
       "      <td>0.0</td>\n",
       "      <td>0.0</td>\n",
       "      <td>0.0</td>\n",
       "      <td>0.0</td>\n",
       "      <td>0.0</td>\n",
       "      <td>0.0</td>\n",
       "      <td>0.0</td>\n",
       "      <td>0.0</td>\n",
       "      <td>...</td>\n",
       "      <td>0.0</td>\n",
       "      <td>0.0</td>\n",
       "      <td>0.0</td>\n",
       "      <td>0.0</td>\n",
       "      <td>0.0</td>\n",
       "      <td>0.0</td>\n",
       "      <td>0.0</td>\n",
       "      <td>0.0</td>\n",
       "      <td>0.0</td>\n",
       "      <td>0.0</td>\n",
       "    </tr>\n",
       "    <tr>\n",
       "      <th>2</th>\n",
       "      <td>0.0</td>\n",
       "      <td>0.0</td>\n",
       "      <td>0.0</td>\n",
       "      <td>0.0</td>\n",
       "      <td>0.0</td>\n",
       "      <td>0.0</td>\n",
       "      <td>0.0</td>\n",
       "      <td>0.0</td>\n",
       "      <td>0.0</td>\n",
       "      <td>0.0</td>\n",
       "      <td>...</td>\n",
       "      <td>0.0</td>\n",
       "      <td>0.0</td>\n",
       "      <td>0.0</td>\n",
       "      <td>0.0</td>\n",
       "      <td>0.0</td>\n",
       "      <td>0.0</td>\n",
       "      <td>0.0</td>\n",
       "      <td>0.0</td>\n",
       "      <td>0.0</td>\n",
       "      <td>0.0</td>\n",
       "    </tr>\n",
       "    <tr>\n",
       "      <th>3</th>\n",
       "      <td>0.0</td>\n",
       "      <td>0.0</td>\n",
       "      <td>0.0</td>\n",
       "      <td>0.0</td>\n",
       "      <td>0.0</td>\n",
       "      <td>0.0</td>\n",
       "      <td>0.0</td>\n",
       "      <td>0.0</td>\n",
       "      <td>0.0</td>\n",
       "      <td>0.0</td>\n",
       "      <td>...</td>\n",
       "      <td>0.0</td>\n",
       "      <td>0.0</td>\n",
       "      <td>0.0</td>\n",
       "      <td>0.0</td>\n",
       "      <td>0.0</td>\n",
       "      <td>0.0</td>\n",
       "      <td>0.0</td>\n",
       "      <td>0.0</td>\n",
       "      <td>0.0</td>\n",
       "      <td>0.0</td>\n",
       "    </tr>\n",
       "    <tr>\n",
       "      <th>4</th>\n",
       "      <td>0.0</td>\n",
       "      <td>0.0</td>\n",
       "      <td>0.0</td>\n",
       "      <td>0.0</td>\n",
       "      <td>0.0</td>\n",
       "      <td>0.0</td>\n",
       "      <td>0.0</td>\n",
       "      <td>0.0</td>\n",
       "      <td>0.0</td>\n",
       "      <td>0.0</td>\n",
       "      <td>...</td>\n",
       "      <td>0.0</td>\n",
       "      <td>0.0</td>\n",
       "      <td>0.0</td>\n",
       "      <td>0.0</td>\n",
       "      <td>0.0</td>\n",
       "      <td>0.0</td>\n",
       "      <td>0.0</td>\n",
       "      <td>0.0</td>\n",
       "      <td>0.0</td>\n",
       "      <td>0.0</td>\n",
       "    </tr>\n",
       "    <tr>\n",
       "      <th>...</th>\n",
       "      <td>...</td>\n",
       "      <td>...</td>\n",
       "      <td>...</td>\n",
       "      <td>...</td>\n",
       "      <td>...</td>\n",
       "      <td>...</td>\n",
       "      <td>...</td>\n",
       "      <td>...</td>\n",
       "      <td>...</td>\n",
       "      <td>...</td>\n",
       "      <td>...</td>\n",
       "      <td>...</td>\n",
       "      <td>...</td>\n",
       "      <td>...</td>\n",
       "      <td>...</td>\n",
       "      <td>...</td>\n",
       "      <td>...</td>\n",
       "      <td>...</td>\n",
       "      <td>...</td>\n",
       "      <td>...</td>\n",
       "      <td>...</td>\n",
       "    </tr>\n",
       "    <tr>\n",
       "      <th>14944</th>\n",
       "      <td>0.0</td>\n",
       "      <td>0.0</td>\n",
       "      <td>0.0</td>\n",
       "      <td>0.0</td>\n",
       "      <td>0.0</td>\n",
       "      <td>0.0</td>\n",
       "      <td>0.0</td>\n",
       "      <td>0.0</td>\n",
       "      <td>0.0</td>\n",
       "      <td>0.0</td>\n",
       "      <td>...</td>\n",
       "      <td>0.0</td>\n",
       "      <td>0.0</td>\n",
       "      <td>0.0</td>\n",
       "      <td>0.0</td>\n",
       "      <td>0.0</td>\n",
       "      <td>0.0</td>\n",
       "      <td>0.0</td>\n",
       "      <td>0.0</td>\n",
       "      <td>0.0</td>\n",
       "      <td>0.0</td>\n",
       "    </tr>\n",
       "    <tr>\n",
       "      <th>14945</th>\n",
       "      <td>0.0</td>\n",
       "      <td>0.0</td>\n",
       "      <td>0.0</td>\n",
       "      <td>0.0</td>\n",
       "      <td>0.0</td>\n",
       "      <td>0.0</td>\n",
       "      <td>0.0</td>\n",
       "      <td>0.0</td>\n",
       "      <td>0.0</td>\n",
       "      <td>0.0</td>\n",
       "      <td>...</td>\n",
       "      <td>0.0</td>\n",
       "      <td>0.0</td>\n",
       "      <td>0.0</td>\n",
       "      <td>0.0</td>\n",
       "      <td>0.0</td>\n",
       "      <td>0.0</td>\n",
       "      <td>0.0</td>\n",
       "      <td>0.0</td>\n",
       "      <td>0.0</td>\n",
       "      <td>0.0</td>\n",
       "    </tr>\n",
       "    <tr>\n",
       "      <th>14946</th>\n",
       "      <td>0.0</td>\n",
       "      <td>0.0</td>\n",
       "      <td>0.0</td>\n",
       "      <td>0.0</td>\n",
       "      <td>0.0</td>\n",
       "      <td>0.0</td>\n",
       "      <td>0.0</td>\n",
       "      <td>0.0</td>\n",
       "      <td>0.0</td>\n",
       "      <td>0.0</td>\n",
       "      <td>...</td>\n",
       "      <td>0.0</td>\n",
       "      <td>0.0</td>\n",
       "      <td>0.0</td>\n",
       "      <td>0.0</td>\n",
       "      <td>0.0</td>\n",
       "      <td>0.0</td>\n",
       "      <td>0.0</td>\n",
       "      <td>0.0</td>\n",
       "      <td>0.0</td>\n",
       "      <td>0.0</td>\n",
       "    </tr>\n",
       "    <tr>\n",
       "      <th>14947</th>\n",
       "      <td>0.0</td>\n",
       "      <td>0.0</td>\n",
       "      <td>0.0</td>\n",
       "      <td>0.0</td>\n",
       "      <td>0.0</td>\n",
       "      <td>0.0</td>\n",
       "      <td>0.0</td>\n",
       "      <td>0.0</td>\n",
       "      <td>0.0</td>\n",
       "      <td>0.0</td>\n",
       "      <td>...</td>\n",
       "      <td>0.0</td>\n",
       "      <td>0.0</td>\n",
       "      <td>0.0</td>\n",
       "      <td>0.0</td>\n",
       "      <td>0.0</td>\n",
       "      <td>0.0</td>\n",
       "      <td>0.0</td>\n",
       "      <td>0.0</td>\n",
       "      <td>0.0</td>\n",
       "      <td>0.0</td>\n",
       "    </tr>\n",
       "    <tr>\n",
       "      <th>14948</th>\n",
       "      <td>0.0</td>\n",
       "      <td>0.0</td>\n",
       "      <td>0.0</td>\n",
       "      <td>0.0</td>\n",
       "      <td>0.0</td>\n",
       "      <td>0.0</td>\n",
       "      <td>0.0</td>\n",
       "      <td>0.0</td>\n",
       "      <td>0.0</td>\n",
       "      <td>0.0</td>\n",
       "      <td>...</td>\n",
       "      <td>0.0</td>\n",
       "      <td>0.0</td>\n",
       "      <td>0.0</td>\n",
       "      <td>0.0</td>\n",
       "      <td>0.0</td>\n",
       "      <td>0.0</td>\n",
       "      <td>0.0</td>\n",
       "      <td>0.0</td>\n",
       "      <td>0.0</td>\n",
       "      <td>0.0</td>\n",
       "    </tr>\n",
       "  </tbody>\n",
       "</table>\n",
       "<p>14949 rows × 5981 columns</p>\n",
       "</div>"
      ],
      "text/plain": [
       "        10  100  1000  10000  100000  100k  100th  101  102  1030  ...  \\\n",
       "0      0.0  0.0   0.0    0.0     0.0   0.0    0.0  0.0  0.0   0.0  ...   \n",
       "1      0.0  0.0   0.0    0.0     0.0   0.0    0.0  0.0  0.0   0.0  ...   \n",
       "2      0.0  0.0   0.0    0.0     0.0   0.0    0.0  0.0  0.0   0.0  ...   \n",
       "3      0.0  0.0   0.0    0.0     0.0   0.0    0.0  0.0  0.0   0.0  ...   \n",
       "4      0.0  0.0   0.0    0.0     0.0   0.0    0.0  0.0  0.0   0.0  ...   \n",
       "...    ...  ...   ...    ...     ...   ...    ...  ...  ...   ...  ...   \n",
       "14944  0.0  0.0   0.0    0.0     0.0   0.0    0.0  0.0  0.0   0.0  ...   \n",
       "14945  0.0  0.0   0.0    0.0     0.0   0.0    0.0  0.0  0.0   0.0  ...   \n",
       "14946  0.0  0.0   0.0    0.0     0.0   0.0    0.0  0.0  0.0   0.0  ...   \n",
       "14947  0.0  0.0   0.0    0.0     0.0   0.0    0.0  0.0  0.0   0.0  ...   \n",
       "14948  0.0  0.0   0.0    0.0     0.0   0.0    0.0  0.0  0.0   0.0  ...   \n",
       "\n",
       "       yovanovitch   yr  yrs  zachary  zelensky  zero  zip  zone  zoom  \\\n",
       "0              0.0  0.0  0.0      0.0       0.0   0.0  0.0   0.0   0.0   \n",
       "1              0.0  0.0  0.0      0.0       0.0   0.0  0.0   0.0   0.0   \n",
       "2              0.0  0.0  0.0      0.0       0.0   0.0  0.0   0.0   0.0   \n",
       "3              0.0  0.0  0.0      0.0       0.0   0.0  0.0   0.0   0.0   \n",
       "4              0.0  0.0  0.0      0.0       0.0   0.0  0.0   0.0   0.0   \n",
       "...            ...  ...  ...      ...       ...   ...  ...   ...   ...   \n",
       "14944          0.0  0.0  0.0      0.0       0.0   0.0  0.0   0.0   0.0   \n",
       "14945          0.0  0.0  0.0      0.0       0.0   0.0  0.0   0.0   0.0   \n",
       "14946          0.0  0.0  0.0      0.0       0.0   0.0  0.0   0.0   0.0   \n",
       "14947          0.0  0.0  0.0      0.0       0.0   0.0  0.0   0.0   0.0   \n",
       "14948          0.0  0.0  0.0      0.0       0.0   0.0  0.0   0.0   0.0   \n",
       "\n",
       "       zuckerberg  \n",
       "0             0.0  \n",
       "1             0.0  \n",
       "2             0.0  \n",
       "3             0.0  \n",
       "4             0.0  \n",
       "...           ...  \n",
       "14944         0.0  \n",
       "14945         0.0  \n",
       "14946         0.0  \n",
       "14947         0.0  \n",
       "14948         0.0  \n",
       "\n",
       "[14949 rows x 5981 columns]"
      ]
     },
     "execution_count": 50,
     "metadata": {},
     "output_type": "execute_result"
    }
   ],
   "source": [
    "# create tfidf dataframe (by the tfidf_df created in section 2.3.)\n",
    "# ----\n",
    "X_tfidf = tfidf_df\n",
    "\n",
    "X_tfidf"
   ]
  },
  {
   "cell_type": "markdown",
   "metadata": {},
   "source": [
    "### 4.3 Word Embeddings"
   ]
  },
  {
   "cell_type": "code",
   "execution_count": 51,
   "metadata": {},
   "outputs": [],
   "source": [
    "# load packages\n",
    "# ----\n",
    "import gensim\n",
    "from gensim import models"
   ]
  },
  {
   "cell_type": "code",
   "execution_count": 52,
   "metadata": {},
   "outputs": [],
   "source": [
    "# train a Word2Vec model\n",
    "# ----\n",
    "model = gensim.models.Word2Vec(\n",
    "\ttweets['tokens'],     # Data\n",
    "\tvector_size = 150,    # Number of dimensions for word embedding model \n",
    "\twindow = 5,           # Number of context words to observe in each direction\n",
    "\tmin_count = 5,        # Minimum frequency for words included in model\n",
    "\tsg = 0,               # (Skip-Gram): ‘0’ indicates CBOW model; ‘1’ indicates Skip-Gram\n",
    "\talpha = 0.025,        # Learning rate\n",
    "\tepochs = 5,           # Number of iterations\n",
    "\tseed = 224,           # Random seed \n",
    "\tbatch_words = 10000,  # Number of words to sample from data during each pass\n",
    "\tworkers = 1)          # Set cores to 1 to ensure this embeddings are fully reproducible"
   ]
  },
  {
   "cell_type": "code",
   "execution_count": 53,
   "metadata": {},
   "outputs": [
    {
     "name": "stdout",
     "output_type": "stream",
     "text": [
      "['rt', 'qt', 'today', 'work', 'need', 'help', 'thank', 'president', 'act', 'people', 'family', 'trump', 'time', 'community', 'year', 'bill', 'support', 'health', 'house', 'american', 'new', 'm', 'join', 'day', '\"', 'great', 'congress', 'state', 'pass', 'americans', 'continue', 'vote', 'right', 'protect', 'care', 'country', 'business', 'week', 'fight', 's', 'life', '@realdonaldtrump', 'senate', 'national', 'federal', 'proud', 'job', 'service', 'million', 'good', '@covid19', 'like', 'nation', 'come', 'worker', 'honor', 'law', 'provide', 'america', 'know', '️', 'ensure', 'live', 'member', 'small', 'covid19', 'student', 'woman', 'democrats', 'crisis', 'public', 'program', 'legislation', 'want', 'security', 'discuss', 'important', 'bipartisan', 'include', 'government', 'school', 'office', 'safe', 'veteran', 'way', 'administration', 'hold', 'read', 'hear', 'pandemic', 'economy', 'stop', 'relief', 'watch', 'child', 'let', 'serve', 'issue', 'home', 'access']\n"
     ]
    }
   ],
   "source": [
    "# return list of words\n",
    "words = list(model.wv.index_to_key)\n",
    "print(words[0:100]) "
   ]
  },
  {
   "cell_type": "code",
   "execution_count": 55,
   "metadata": {},
   "outputs": [
    {
     "name": "stdout",
     "output_type": "stream",
     "text": [
      "0.99098045 \n",
      " 0.73757774 \n",
      " 0.6576654 \n",
      " 0.2666375 \n",
      " 0.008010033\n"
     ]
    }
   ],
   "source": [
    "# check (similarity b/w vectors)\n",
    "## seems to make sense (as I expect a descending similarity b/w these pairs)\n",
    "print(model.wv.similarity('covid19', '@covid19'), '\\n',\n",
    "      model.wv.similarity('covid19', 'health'), '\\n',\n",
    "      model.wv.similarity('covid19', 'business'), '\\n',\n",
    "      model.wv.similarity('covid19', 'bipartisan'), '\\n',\n",
    "      model.wv.similarity('covid19', 'senate'))"
   ]
  },
  {
   "cell_type": "code",
   "execution_count": 57,
   "metadata": {},
   "outputs": [
    {
     "data": {
      "text/plain": [
       "[('@realdonaldtrump', 0.889400839805603),\n",
       " ('\"', 0.8431368470191956),\n",
       " ('obama', 0.8247436881065369),\n",
       " ('election', 0.8202529549598694),\n",
       " ('trumps', 0.8199097514152527),\n",
       " ('political', 0.8193903565406799),\n",
       " ('ukraine', 0.8171904683113098),\n",
       " ('solicit', 0.8123511672019958),\n",
       " ('power', 0.8095943331718445),\n",
       " ('zelensky', 0.8070333003997803)]"
      ]
     },
     "execution_count": 57,
     "metadata": {},
     "output_type": "execute_result"
    }
   ],
   "source": [
    "# check (semantic properties)\n",
    "## trump - republican + democrat = ? (obama seems reasonable)\n",
    "model.wv.most_similar(positive=['trump', 'democrat'], negative=['republican'])"
   ]
  },
  {
   "cell_type": "code",
   "execution_count": 63,
   "metadata": {},
   "outputs": [],
   "source": [
    "# create a function that average the word embeddings at the document level\n",
    "# ----\n",
    "def document_vector(word2vec_model, doc):\n",
    "    # check if doc is empty\n",
    "    if not doc:\n",
    "        print(\"Warning: Empty document! i =\", i)\n",
    "        return np.zeros(150)  # return an empty vector of length 150\n",
    "\n",
    "    # filter out-of-vocabulary words\n",
    "    valid_words = [w for w in doc if w in word2vec_model.wv.index_to_key]\n",
    "\n",
    "    # check if all words are out-of-vocabulary\n",
    "    if not valid_words:\n",
    "        print(\"Warning: All words are out-of-vocabulary! i =\", i)\n",
    "        return np.zeros(150)\n",
    "\n",
    "    # Calculate document vector using valid words\n",
    "    return np.mean(word2vec_model.wv.__getitem__(valid_words), axis = 0)"
   ]
  },
  {
   "cell_type": "code",
   "execution_count": 64,
   "metadata": {},
   "outputs": [
    {
     "name": "stdout",
     "output_type": "stream",
     "text": [
      "Warning: All words are out-of-vocabulary! i = 81\n",
      "Warning: All words are out-of-vocabulary! i = 879\n",
      "Warning: All words are out-of-vocabulary! i = 1266\n",
      "Warning: All words are out-of-vocabulary! i = 1866\n",
      "Warning: All words are out-of-vocabulary! i = 2518\n",
      "Warning: All words are out-of-vocabulary! i = 5696\n",
      "Warning: All words are out-of-vocabulary! i = 6883\n",
      "Warning: All words are out-of-vocabulary! i = 7441\n",
      "Warning: All words are out-of-vocabulary! i = 8309\n",
      "Warning: All words are out-of-vocabulary! i = 8422\n",
      "Warning: All words are out-of-vocabulary! i = 8563\n",
      "Warning: All words are out-of-vocabulary! i = 8625\n",
      "Warning: All words are out-of-vocabulary! i = 9622\n",
      "Warning: All words are out-of-vocabulary! i = 10119\n",
      "Warning: All words are out-of-vocabulary! i = 10411\n",
      "Warning: All words are out-of-vocabulary! i = 10454\n",
      "Warning: All words are out-of-vocabulary! i = 10792\n",
      "Warning: All words are out-of-vocabulary! i = 12129\n",
      "Warning: All words are out-of-vocabulary! i = 12256\n",
      "Warning: All words are out-of-vocabulary! i = 12861\n",
      "Warning: All words are out-of-vocabulary! i = 13216\n",
      "Warning: All words are out-of-vocabulary! i = 13960\n",
      "Warning: All words are out-of-vocabulary! i = 14673\n",
      "Warning: All words are out-of-vocabulary! i = 14710\n",
      "Warning: All words are out-of-vocabulary! i = 14766\n"
     ]
    },
    {
     "data": {
      "text/html": [
       "<div>\n",
       "<style scoped>\n",
       "    .dataframe tbody tr th:only-of-type {\n",
       "        vertical-align: middle;\n",
       "    }\n",
       "\n",
       "    .dataframe tbody tr th {\n",
       "        vertical-align: top;\n",
       "    }\n",
       "\n",
       "    .dataframe thead th {\n",
       "        text-align: right;\n",
       "    }\n",
       "</style>\n",
       "<table border=\"1\" class=\"dataframe\">\n",
       "  <thead>\n",
       "    <tr style=\"text-align: right;\">\n",
       "      <th></th>\n",
       "      <th>0</th>\n",
       "      <th>1</th>\n",
       "      <th>2</th>\n",
       "      <th>3</th>\n",
       "      <th>4</th>\n",
       "      <th>5</th>\n",
       "      <th>6</th>\n",
       "      <th>7</th>\n",
       "      <th>8</th>\n",
       "      <th>9</th>\n",
       "      <th>...</th>\n",
       "      <th>140</th>\n",
       "      <th>141</th>\n",
       "      <th>142</th>\n",
       "      <th>143</th>\n",
       "      <th>144</th>\n",
       "      <th>145</th>\n",
       "      <th>146</th>\n",
       "      <th>147</th>\n",
       "      <th>148</th>\n",
       "      <th>149</th>\n",
       "    </tr>\n",
       "  </thead>\n",
       "  <tbody>\n",
       "    <tr>\n",
       "      <th>0</th>\n",
       "      <td>0.142822</td>\n",
       "      <td>-0.019301</td>\n",
       "      <td>0.285115</td>\n",
       "      <td>0.132303</td>\n",
       "      <td>0.040007</td>\n",
       "      <td>-0.161824</td>\n",
       "      <td>-0.008681</td>\n",
       "      <td>-0.565368</td>\n",
       "      <td>0.040850</td>\n",
       "      <td>0.332645</td>\n",
       "      <td>...</td>\n",
       "      <td>0.315890</td>\n",
       "      <td>-0.035208</td>\n",
       "      <td>-0.258093</td>\n",
       "      <td>0.191768</td>\n",
       "      <td>-0.031158</td>\n",
       "      <td>-0.320716</td>\n",
       "      <td>-0.222001</td>\n",
       "      <td>0.089114</td>\n",
       "      <td>-0.183101</td>\n",
       "      <td>-0.039779</td>\n",
       "    </tr>\n",
       "    <tr>\n",
       "      <th>1</th>\n",
       "      <td>0.011351</td>\n",
       "      <td>0.025401</td>\n",
       "      <td>0.076927</td>\n",
       "      <td>0.196868</td>\n",
       "      <td>0.051574</td>\n",
       "      <td>-0.185788</td>\n",
       "      <td>-0.128587</td>\n",
       "      <td>-0.230781</td>\n",
       "      <td>0.058692</td>\n",
       "      <td>0.096000</td>\n",
       "      <td>...</td>\n",
       "      <td>0.164418</td>\n",
       "      <td>-0.123633</td>\n",
       "      <td>-0.129713</td>\n",
       "      <td>0.071038</td>\n",
       "      <td>-0.016004</td>\n",
       "      <td>-0.184834</td>\n",
       "      <td>-0.051503</td>\n",
       "      <td>0.129647</td>\n",
       "      <td>-0.157925</td>\n",
       "      <td>-0.128884</td>\n",
       "    </tr>\n",
       "    <tr>\n",
       "      <th>2</th>\n",
       "      <td>-0.199852</td>\n",
       "      <td>-0.082924</td>\n",
       "      <td>-0.055866</td>\n",
       "      <td>0.180952</td>\n",
       "      <td>-0.010440</td>\n",
       "      <td>-0.108596</td>\n",
       "      <td>0.040093</td>\n",
       "      <td>-0.586091</td>\n",
       "      <td>-0.067947</td>\n",
       "      <td>0.320485</td>\n",
       "      <td>...</td>\n",
       "      <td>0.352031</td>\n",
       "      <td>-0.297557</td>\n",
       "      <td>-0.245387</td>\n",
       "      <td>0.103975</td>\n",
       "      <td>0.048682</td>\n",
       "      <td>-0.266857</td>\n",
       "      <td>-0.121372</td>\n",
       "      <td>-0.073905</td>\n",
       "      <td>0.025103</td>\n",
       "      <td>0.115309</td>\n",
       "    </tr>\n",
       "    <tr>\n",
       "      <th>3</th>\n",
       "      <td>0.023856</td>\n",
       "      <td>0.041204</td>\n",
       "      <td>0.103955</td>\n",
       "      <td>0.264604</td>\n",
       "      <td>0.053050</td>\n",
       "      <td>-0.193567</td>\n",
       "      <td>-0.124523</td>\n",
       "      <td>-0.317329</td>\n",
       "      <td>0.136813</td>\n",
       "      <td>0.198251</td>\n",
       "      <td>...</td>\n",
       "      <td>0.289853</td>\n",
       "      <td>-0.128445</td>\n",
       "      <td>-0.159232</td>\n",
       "      <td>0.078240</td>\n",
       "      <td>-0.036406</td>\n",
       "      <td>-0.224746</td>\n",
       "      <td>-0.071603</td>\n",
       "      <td>0.068118</td>\n",
       "      <td>-0.165861</td>\n",
       "      <td>-0.133558</td>\n",
       "    </tr>\n",
       "    <tr>\n",
       "      <th>4</th>\n",
       "      <td>-0.306825</td>\n",
       "      <td>-0.058389</td>\n",
       "      <td>-0.099002</td>\n",
       "      <td>0.121574</td>\n",
       "      <td>-0.003179</td>\n",
       "      <td>-0.061601</td>\n",
       "      <td>0.059028</td>\n",
       "      <td>-0.663918</td>\n",
       "      <td>-0.198630</td>\n",
       "      <td>0.395281</td>\n",
       "      <td>...</td>\n",
       "      <td>0.380415</td>\n",
       "      <td>-0.358892</td>\n",
       "      <td>-0.347832</td>\n",
       "      <td>0.110560</td>\n",
       "      <td>0.062180</td>\n",
       "      <td>-0.312442</td>\n",
       "      <td>-0.145636</td>\n",
       "      <td>0.022662</td>\n",
       "      <td>0.007403</td>\n",
       "      <td>0.144515</td>\n",
       "    </tr>\n",
       "    <tr>\n",
       "      <th>...</th>\n",
       "      <td>...</td>\n",
       "      <td>...</td>\n",
       "      <td>...</td>\n",
       "      <td>...</td>\n",
       "      <td>...</td>\n",
       "      <td>...</td>\n",
       "      <td>...</td>\n",
       "      <td>...</td>\n",
       "      <td>...</td>\n",
       "      <td>...</td>\n",
       "      <td>...</td>\n",
       "      <td>...</td>\n",
       "      <td>...</td>\n",
       "      <td>...</td>\n",
       "      <td>...</td>\n",
       "      <td>...</td>\n",
       "      <td>...</td>\n",
       "      <td>...</td>\n",
       "      <td>...</td>\n",
       "      <td>...</td>\n",
       "      <td>...</td>\n",
       "    </tr>\n",
       "    <tr>\n",
       "      <th>14944</th>\n",
       "      <td>0.087788</td>\n",
       "      <td>0.087259</td>\n",
       "      <td>0.143290</td>\n",
       "      <td>0.167101</td>\n",
       "      <td>0.082287</td>\n",
       "      <td>-0.183475</td>\n",
       "      <td>-0.165646</td>\n",
       "      <td>-0.235297</td>\n",
       "      <td>0.042257</td>\n",
       "      <td>0.131393</td>\n",
       "      <td>...</td>\n",
       "      <td>0.226911</td>\n",
       "      <td>-0.020145</td>\n",
       "      <td>-0.169513</td>\n",
       "      <td>0.095417</td>\n",
       "      <td>-0.068817</td>\n",
       "      <td>-0.180998</td>\n",
       "      <td>-0.056251</td>\n",
       "      <td>0.167436</td>\n",
       "      <td>-0.229177</td>\n",
       "      <td>-0.134567</td>\n",
       "    </tr>\n",
       "    <tr>\n",
       "      <th>14945</th>\n",
       "      <td>-0.164726</td>\n",
       "      <td>-0.128367</td>\n",
       "      <td>-0.036690</td>\n",
       "      <td>0.242694</td>\n",
       "      <td>0.023114</td>\n",
       "      <td>-0.255525</td>\n",
       "      <td>0.051511</td>\n",
       "      <td>-0.581601</td>\n",
       "      <td>0.020090</td>\n",
       "      <td>0.243643</td>\n",
       "      <td>...</td>\n",
       "      <td>0.343273</td>\n",
       "      <td>-0.427418</td>\n",
       "      <td>-0.270577</td>\n",
       "      <td>0.105657</td>\n",
       "      <td>0.132734</td>\n",
       "      <td>-0.413567</td>\n",
       "      <td>-0.176460</td>\n",
       "      <td>0.022160</td>\n",
       "      <td>0.003412</td>\n",
       "      <td>0.007763</td>\n",
       "    </tr>\n",
       "    <tr>\n",
       "      <th>14946</th>\n",
       "      <td>-0.158391</td>\n",
       "      <td>-0.033502</td>\n",
       "      <td>-0.141414</td>\n",
       "      <td>0.302500</td>\n",
       "      <td>0.019499</td>\n",
       "      <td>-0.368923</td>\n",
       "      <td>-0.214197</td>\n",
       "      <td>-0.462028</td>\n",
       "      <td>-0.274236</td>\n",
       "      <td>0.182066</td>\n",
       "      <td>...</td>\n",
       "      <td>0.191298</td>\n",
       "      <td>-0.219455</td>\n",
       "      <td>-0.363161</td>\n",
       "      <td>0.098611</td>\n",
       "      <td>-0.049669</td>\n",
       "      <td>-0.289676</td>\n",
       "      <td>-0.031190</td>\n",
       "      <td>0.384380</td>\n",
       "      <td>-0.335643</td>\n",
       "      <td>-0.190164</td>\n",
       "    </tr>\n",
       "    <tr>\n",
       "      <th>14947</th>\n",
       "      <td>0.068671</td>\n",
       "      <td>0.058733</td>\n",
       "      <td>0.186444</td>\n",
       "      <td>0.293508</td>\n",
       "      <td>0.083320</td>\n",
       "      <td>-0.202730</td>\n",
       "      <td>-0.142767</td>\n",
       "      <td>-0.395312</td>\n",
       "      <td>0.123966</td>\n",
       "      <td>0.258233</td>\n",
       "      <td>...</td>\n",
       "      <td>0.350717</td>\n",
       "      <td>-0.118112</td>\n",
       "      <td>-0.192420</td>\n",
       "      <td>0.110195</td>\n",
       "      <td>-0.062004</td>\n",
       "      <td>-0.273248</td>\n",
       "      <td>-0.123831</td>\n",
       "      <td>0.103303</td>\n",
       "      <td>-0.246925</td>\n",
       "      <td>-0.142482</td>\n",
       "    </tr>\n",
       "    <tr>\n",
       "      <th>14948</th>\n",
       "      <td>-0.354052</td>\n",
       "      <td>-0.027838</td>\n",
       "      <td>-0.289314</td>\n",
       "      <td>0.420162</td>\n",
       "      <td>0.001994</td>\n",
       "      <td>-0.317914</td>\n",
       "      <td>-0.153252</td>\n",
       "      <td>-0.436429</td>\n",
       "      <td>-0.039914</td>\n",
       "      <td>0.222022</td>\n",
       "      <td>...</td>\n",
       "      <td>0.365608</td>\n",
       "      <td>-0.475748</td>\n",
       "      <td>-0.189730</td>\n",
       "      <td>0.026420</td>\n",
       "      <td>0.051330</td>\n",
       "      <td>-0.343985</td>\n",
       "      <td>0.034214</td>\n",
       "      <td>0.065104</td>\n",
       "      <td>-0.076145</td>\n",
       "      <td>-0.085469</td>\n",
       "    </tr>\n",
       "  </tbody>\n",
       "</table>\n",
       "<p>14949 rows × 150 columns</p>\n",
       "</div>"
      ],
      "text/plain": [
       "            0         1         2         3         4         5         6    \\\n",
       "0      0.142822 -0.019301  0.285115  0.132303  0.040007 -0.161824 -0.008681   \n",
       "1      0.011351  0.025401  0.076927  0.196868  0.051574 -0.185788 -0.128587   \n",
       "2     -0.199852 -0.082924 -0.055866  0.180952 -0.010440 -0.108596  0.040093   \n",
       "3      0.023856  0.041204  0.103955  0.264604  0.053050 -0.193567 -0.124523   \n",
       "4     -0.306825 -0.058389 -0.099002  0.121574 -0.003179 -0.061601  0.059028   \n",
       "...         ...       ...       ...       ...       ...       ...       ...   \n",
       "14944  0.087788  0.087259  0.143290  0.167101  0.082287 -0.183475 -0.165646   \n",
       "14945 -0.164726 -0.128367 -0.036690  0.242694  0.023114 -0.255525  0.051511   \n",
       "14946 -0.158391 -0.033502 -0.141414  0.302500  0.019499 -0.368923 -0.214197   \n",
       "14947  0.068671  0.058733  0.186444  0.293508  0.083320 -0.202730 -0.142767   \n",
       "14948 -0.354052 -0.027838 -0.289314  0.420162  0.001994 -0.317914 -0.153252   \n",
       "\n",
       "            7         8         9    ...       140       141       142  \\\n",
       "0     -0.565368  0.040850  0.332645  ...  0.315890 -0.035208 -0.258093   \n",
       "1     -0.230781  0.058692  0.096000  ...  0.164418 -0.123633 -0.129713   \n",
       "2     -0.586091 -0.067947  0.320485  ...  0.352031 -0.297557 -0.245387   \n",
       "3     -0.317329  0.136813  0.198251  ...  0.289853 -0.128445 -0.159232   \n",
       "4     -0.663918 -0.198630  0.395281  ...  0.380415 -0.358892 -0.347832   \n",
       "...         ...       ...       ...  ...       ...       ...       ...   \n",
       "14944 -0.235297  0.042257  0.131393  ...  0.226911 -0.020145 -0.169513   \n",
       "14945 -0.581601  0.020090  0.243643  ...  0.343273 -0.427418 -0.270577   \n",
       "14946 -0.462028 -0.274236  0.182066  ...  0.191298 -0.219455 -0.363161   \n",
       "14947 -0.395312  0.123966  0.258233  ...  0.350717 -0.118112 -0.192420   \n",
       "14948 -0.436429 -0.039914  0.222022  ...  0.365608 -0.475748 -0.189730   \n",
       "\n",
       "            143       144       145       146       147       148       149  \n",
       "0      0.191768 -0.031158 -0.320716 -0.222001  0.089114 -0.183101 -0.039779  \n",
       "1      0.071038 -0.016004 -0.184834 -0.051503  0.129647 -0.157925 -0.128884  \n",
       "2      0.103975  0.048682 -0.266857 -0.121372 -0.073905  0.025103  0.115309  \n",
       "3      0.078240 -0.036406 -0.224746 -0.071603  0.068118 -0.165861 -0.133558  \n",
       "4      0.110560  0.062180 -0.312442 -0.145636  0.022662  0.007403  0.144515  \n",
       "...         ...       ...       ...       ...       ...       ...       ...  \n",
       "14944  0.095417 -0.068817 -0.180998 -0.056251  0.167436 -0.229177 -0.134567  \n",
       "14945  0.105657  0.132734 -0.413567 -0.176460  0.022160  0.003412  0.007763  \n",
       "14946  0.098611 -0.049669 -0.289676 -0.031190  0.384380 -0.335643 -0.190164  \n",
       "14947  0.110195 -0.062004 -0.273248 -0.123831  0.103303 -0.246925 -0.142482  \n",
       "14948  0.026420  0.051330 -0.343985  0.034214  0.065104 -0.076145 -0.085469  \n",
       "\n",
       "[14949 rows x 150 columns]"
      ]
     },
     "execution_count": 64,
     "metadata": {},
     "output_type": "execute_result"
    }
   ],
   "source": [
    "# loop to create average word embedding vectors\n",
    "# ----\n",
    "X_awv = []\n",
    "\n",
    "for i in range(0, len(tweets)): \n",
    "    X_awv.append(document_vector(model, tweets['tokens'][i]))\n",
    "\n",
    "X_awv = pd.DataFrame(X_awv)\n",
    "X_awv"
   ]
  },
  {
   "cell_type": "code",
   "execution_count": 68,
   "metadata": {},
   "outputs": [
    {
     "data": {
      "text/plain": [
       "25"
      ]
     },
     "execution_count": 68,
     "metadata": {},
     "output_type": "execute_result"
    }
   ],
   "source": [
    "# check (25 tweets w/o valid words)\n",
    "sum(X_awv[0] == 0)"
   ]
  },
  {
   "cell_type": "markdown",
   "metadata": {},
   "source": [
    "## 5. Classification"
   ]
  },
  {
   "cell_type": "markdown",
   "metadata": {},
   "source": [
    "Either use cross-validation or partition your data with training/validation/test sets for this section. Do the following:\n",
    "\n",
    "* Choose a supervised learning algorithm such as logistic regression, random forest etc. \n",
    "* Train six models. For each of the three dataframes you created in the featurization part, train one model to predict whether the author of the tweet is a Democrat or Republican, and a second model to predict whether the author is a Senator or Representative.\n",
    "* Report the accuracy and other relevant metrics for each of these six models.\n",
    "* Choose the featurization technique associated with your best model. Combine those text features with non-text features. Train two more models: (1) A supervised learning algorithm that uses just the non-text features and (2) a supervised learning algorithm that combines text and non-text features. Report accuracy and other relevant metrics. \n",
    "\n",
    "If time permits, you are encouraged to use hyperparameter tuning or AutoML techniques like TPOT, but are not explicitly required to do so."
   ]
  },
  {
   "cell_type": "markdown",
   "metadata": {},
   "source": [
    "### 5.1. Prediction Target"
   ]
  },
  {
   "cell_type": "code",
   "execution_count": 69,
   "metadata": {},
   "outputs": [],
   "source": [
    "# load packages\n",
    "# ----\n",
    "from sklearn.preprocessing import LabelBinarizer"
   ]
  },
  {
   "cell_type": "code",
   "execution_count": 70,
   "metadata": {},
   "outputs": [],
   "source": [
    "# finalize y \n",
    "# ----\n",
    "lb = LabelBinarizer()\n",
    "\n",
    "y_repub = lb.fit_transform(tweets['party'])\n",
    "y_senat = lb.fit_transform(tweets['position'])"
   ]
  },
  {
   "cell_type": "markdown",
   "metadata": {},
   "source": [
    "### 5.2. Six Text Models"
   ]
  },
  {
   "cell_type": "code",
   "execution_count": 71,
   "metadata": {},
   "outputs": [],
   "source": [
    "# load packages\n",
    "# ----\n",
    "from sklearn.linear_model import LogisticRegression\n",
    "from sklearn.model_selection import train_test_split\n",
    "from sklearn.metrics import confusion_matrix, ConfusionMatrixDisplay"
   ]
  },
  {
   "cell_type": "code",
   "execution_count": 72,
   "metadata": {},
   "outputs": [],
   "source": [
    "# set up loop variables\n",
    "# ----\n",
    "dataframes = [X_engin, X_tfidf, X_awv]\n",
    "featurizations = ['Engineered Text Features (Republican=1)', 'TF-IDF (Republican=1)', 'Averaged Word Embeddings (Republican=1)']"
   ]
  },
  {
   "cell_type": "code",
   "execution_count": 73,
   "metadata": {
    "scrolled": true
   },
   "outputs": [
    {
     "name": "stdout",
     "output_type": "stream",
     "text": [
      "accuracy score of Engineered Text Features (Republican=1) : 0.5769230769230769\n",
      "accuracy score of TF-IDF (Republican=1) : 0.7598662207357859\n",
      "accuracy score of Averaged Word Embeddings (Republican=1) : 0.5836120401337793\n"
     ]
    },
    {
     "data": {
      "image/png": "[encoded data removed]",
      "text/plain": [
       "<Figure size 640x480 with 2 Axes>"
      ]
     },
     "metadata": {},
     "output_type": "display_data"
    },
    {
     "data": {
      "image/png": "[encoded data removed]",
      "text/plain": [
       "<Figure size 640x480 with 2 Axes>"
      ]
     },
     "metadata": {},
     "output_type": "display_data"
    },
    {
     "data": {
      "image/png": "[encoded data removed]",
      "text/plain": [
       "<Figure size 640x480 with 2 Axes>"
      ]
     },
     "metadata": {},
     "output_type": "display_data"
    }
   ],
   "source": [
    "# classification model for Republican=1\n",
    "# loop over each dataframe, apply a logit classification model, and create a confusion matrix\n",
    "# ----\n",
    "for dataframe, featurization in zip(dataframes, featurizations):\n",
    "    \n",
    "    # split data\n",
    "    X_train, X_test, y_train, y_test = train_test_split(\n",
    "        dataframe, \n",
    "        y_repub,\n",
    "        train_size = .80, \n",
    "        test_size = .20, \n",
    "        random_state = 224) \n",
    "    \n",
    "    # fit logit model \n",
    "    logit = LogisticRegression(max_iter = 500)\n",
    "    logit.fit(X_train,\n",
    "              y_train.ravel())\n",
    "    \n",
    "    # create a confusion matrix\n",
    "    y_pred = logit.predict(X_test)\n",
    "    cm = confusion_matrix(y_test,\n",
    "                          y_pred,\n",
    "                          normalize = \"true\") \n",
    "\n",
    "    # plot\n",
    "    ConfusionMatrixDisplay(cm).plot()\n",
    "    plt.title(featurization);\n",
    "\n",
    "    # print\n",
    "    print('accuracy score of', featurization, ':', logit.score(X_test, y_test))"
   ]
  },
  {
   "cell_type": "code",
   "execution_count": 74,
   "metadata": {},
   "outputs": [],
   "source": [
    "# change prediction target\n",
    "# ----\n",
    "dataframes = [X_engin, X_tfidf, X_awv]\n",
    "featurizations = ['Engineered Text Features (senator=1)', 'TF-IDF (senator=1)', 'Averaged Word Embeddings (senator=1)']"
   ]
  },
  {
   "cell_type": "code",
   "execution_count": 75,
   "metadata": {
    "scrolled": true
   },
   "outputs": [
    {
     "name": "stdout",
     "output_type": "stream",
     "text": [
      "accuracy score of Engineered Text Features (senator=1) : 0.754180602006689\n",
      "accuracy score of TF-IDF (senator=1) : 0.7729096989966555\n",
      "accuracy score of Averaged Word Embeddings (senator=1) : 0.754180602006689\n"
     ]
    },
    {
     "data": {
      "image/png": "[encoded data removed]",
      "text/plain": [
       "<Figure size 640x480 with 2 Axes>"
      ]
     },
     "metadata": {},
     "output_type": "display_data"
    },
    {
     "data": {
      "image/png": "[encoded data removed]",
      "text/plain": [
       "<Figure size 640x480 with 2 Axes>"
      ]
     },
     "metadata": {},
     "output_type": "display_data"
    },
    {
     "data": {
      "image/png": "[encoded data removed]",
      "text/plain": [
       "<Figure size 640x480 with 2 Axes>"
      ]
     },
     "metadata": {},
     "output_type": "display_data"
    }
   ],
   "source": [
    "# classification model for senator=1\n",
    "## these features are much worse at predicting senators vs. representatives\n",
    "# ----\n",
    "for dataframe, featurization in zip(dataframes, featurizations):\n",
    "    \n",
    "    # split data\n",
    "    X_train, X_test, y_train, y_test = train_test_split(dataframe,\n",
    "                                                        y_senat,\n",
    "                                                        train_size = .80,\n",
    "                                                        test_size = .20, \n",
    "                                                        random_state = 224) \n",
    "    \n",
    "    # fit logit model \n",
    "    logit = LogisticRegression(max_iter = 500)\n",
    "    logit.fit(X_train,\n",
    "              y_train.ravel())\n",
    "    \n",
    "    # create a confusion matrix\n",
    "    y_pred = logit.predict(X_test)\n",
    "    cm = confusion_matrix(y_test,\n",
    "                          y_pred,\n",
    "                          normalize = \"true\") \n",
    "\n",
    "    # plot\n",
    "    ConfusionMatrixDisplay(cm).plot()\n",
    "    plt.title(featurization);\n",
    "    \n",
    "    # print\n",
    "    print('accuracy score of', featurization, ':', logit.score(X_test, y_test))"
   ]
  },
  {
   "cell_type": "markdown",
   "metadata": {},
   "source": [
    "### 5.3. Two Combined Models"
   ]
  },
  {
   "cell_type": "code",
   "execution_count": 76,
   "metadata": {},
   "outputs": [
    {
     "data": {
      "text/plain": [
       "Index(['tweet_id', 'screen_name', 'datetime', 'text', 'name_wikipedia',\n",
       "       'position', 'joined_congress_date', 'birthday', 'gender', 'state',\n",
       "       'district_number', 'party', 'trump_2016_state_share',\n",
       "       'clinton_2016_state_share', 'obama_2012_state_share',\n",
       "       'romney_2012_state_share', 'tokens', 'tokens_text', 'tokens_count',\n",
       "       'topic_0', 'topic_1', 'topic_2', 'topic_3', 'topic_4', 'polarity',\n",
       "       'subjectivity', 'word_count'],\n",
       "      dtype='object')"
      ]
     },
     "execution_count": 76,
     "metadata": {},
     "output_type": "execute_result"
    }
   ],
   "source": [
    "# check non-text features\n",
    "tweets.columns"
   ]
  },
  {
   "cell_type": "code",
   "execution_count": 77,
   "metadata": {},
   "outputs": [
    {
     "data": {
      "text/html": [
       "<div>\n",
       "<style scoped>\n",
       "    .dataframe tbody tr th:only-of-type {\n",
       "        vertical-align: middle;\n",
       "    }\n",
       "\n",
       "    .dataframe tbody tr th {\n",
       "        vertical-align: top;\n",
       "    }\n",
       "\n",
       "    .dataframe thead th {\n",
       "        text-align: right;\n",
       "    }\n",
       "</style>\n",
       "<table border=\"1\" class=\"dataframe\">\n",
       "  <thead>\n",
       "    <tr style=\"text-align: right;\">\n",
       "      <th></th>\n",
       "      <th>birthday</th>\n",
       "      <th>birth_yr</th>\n",
       "    </tr>\n",
       "  </thead>\n",
       "  <tbody>\n",
       "    <tr>\n",
       "      <th>0</th>\n",
       "      <td>9/27/1954</td>\n",
       "      <td>1954</td>\n",
       "    </tr>\n",
       "    <tr>\n",
       "      <th>1</th>\n",
       "      <td>1/19/1972</td>\n",
       "      <td>1972</td>\n",
       "    </tr>\n",
       "    <tr>\n",
       "      <th>2</th>\n",
       "      <td>3/28/1953</td>\n",
       "      <td>1953</td>\n",
       "    </tr>\n",
       "    <tr>\n",
       "      <th>3</th>\n",
       "      <td>8/17/1940</td>\n",
       "      <td>1940</td>\n",
       "    </tr>\n",
       "    <tr>\n",
       "      <th>4</th>\n",
       "      <td>9/13/1976</td>\n",
       "      <td>1976</td>\n",
       "    </tr>\n",
       "  </tbody>\n",
       "</table>\n",
       "</div>"
      ],
      "text/plain": [
       "    birthday  birth_yr\n",
       "0  9/27/1954      1954\n",
       "1  1/19/1972      1972\n",
       "2  3/28/1953      1953\n",
       "3  8/17/1940      1940\n",
       "4  9/13/1976      1976"
      ]
     },
     "execution_count": 77,
     "metadata": {},
     "output_type": "execute_result"
    }
   ],
   "source": [
    "# create birth year variable\n",
    "# ----\n",
    "tweets['birth_yr'] = tweets['birthday'].map(lambda x: pd.to_numeric(x[-4:])) \n",
    "tweets[['birthday', 'birth_yr']].head()"
   ]
  },
  {
   "cell_type": "code",
   "execution_count": 78,
   "metadata": {},
   "outputs": [
    {
     "data": {
      "text/html": [
       "<div>\n",
       "<style scoped>\n",
       "    .dataframe tbody tr th:only-of-type {\n",
       "        vertical-align: middle;\n",
       "    }\n",
       "\n",
       "    .dataframe tbody tr th {\n",
       "        vertical-align: top;\n",
       "    }\n",
       "\n",
       "    .dataframe thead th {\n",
       "        text-align: right;\n",
       "    }\n",
       "</style>\n",
       "<table border=\"1\" class=\"dataframe\">\n",
       "  <thead>\n",
       "    <tr style=\"text-align: right;\">\n",
       "      <th></th>\n",
       "      <th>gender</th>\n",
       "      <th>gender_male</th>\n",
       "    </tr>\n",
       "  </thead>\n",
       "  <tbody>\n",
       "    <tr>\n",
       "      <th>0</th>\n",
       "      <td>M</td>\n",
       "      <td>1</td>\n",
       "    </tr>\n",
       "    <tr>\n",
       "      <th>1</th>\n",
       "      <td>F</td>\n",
       "      <td>0</td>\n",
       "    </tr>\n",
       "    <tr>\n",
       "      <th>2</th>\n",
       "      <td>F</td>\n",
       "      <td>0</td>\n",
       "    </tr>\n",
       "    <tr>\n",
       "      <th>3</th>\n",
       "      <td>M</td>\n",
       "      <td>1</td>\n",
       "    </tr>\n",
       "    <tr>\n",
       "      <th>4</th>\n",
       "      <td>M</td>\n",
       "      <td>1</td>\n",
       "    </tr>\n",
       "  </tbody>\n",
       "</table>\n",
       "</div>"
      ],
      "text/plain": [
       "  gender  gender_male\n",
       "0      M            1\n",
       "1      F            0\n",
       "2      F            0\n",
       "3      M            1\n",
       "4      M            1"
      ]
     },
     "execution_count": 78,
     "metadata": {},
     "output_type": "execute_result"
    }
   ],
   "source": [
    "# code male=1 when gender=M\n",
    "# ----\n",
    "tweets['gender_male'] = lb.fit_transform(tweets['gender']) \n",
    "tweets[['gender', 'gender_male']].head()"
   ]
  },
  {
   "cell_type": "code",
   "execution_count": 79,
   "metadata": {},
   "outputs": [],
   "source": [
    "# create 2016 elction variable\n",
    "# ----\n",
    "\n",
    "# first turn it into integers \n",
    "tweets['trump_2016_num'] = tweets['trump_2016_state_share'].map(lambda x: pd.to_numeric(x.replace(',', '')))\n",
    "tweets['clinton_2016_num'] = tweets['clinton_2016_state_share'].map(lambda x: pd.to_numeric(x.replace(',', '')))\n",
    "tweets['romney_2012_num'] = tweets['romney_2012_state_share'].map(lambda x: pd.to_numeric(x.replace(',', '')))\n",
    "tweets['obama_2012_num'] = tweets['obama_2012_state_share'].map(lambda x: pd.to_numeric(x.replace(',', '')))\n",
    "\n",
    "# then divide them (rep_candidate / dem_candidate)\n",
    "tweets['trump/clinton_2016_state'] = tweets['trump_2016_num'] / tweets['clinton_2016_num']\n",
    "tweets['romney/obama_2012_state'] = tweets['romney_2012_num'] / tweets['obama_2012_num']"
   ]
  },
  {
   "cell_type": "code",
   "execution_count": 80,
   "metadata": {},
   "outputs": [
    {
     "data": {
      "text/html": [
       "<div>\n",
       "<style scoped>\n",
       "    .dataframe tbody tr th:only-of-type {\n",
       "        vertical-align: middle;\n",
       "    }\n",
       "\n",
       "    .dataframe tbody tr th {\n",
       "        vertical-align: top;\n",
       "    }\n",
       "\n",
       "    .dataframe thead th {\n",
       "        text-align: right;\n",
       "    }\n",
       "</style>\n",
       "<table border=\"1\" class=\"dataframe\">\n",
       "  <thead>\n",
       "    <tr style=\"text-align: right;\">\n",
       "      <th></th>\n",
       "      <th>gender_male</th>\n",
       "      <th>birth_yr</th>\n",
       "      <th>trump/clinton_2016_state</th>\n",
       "      <th>romney/obama_2012_state</th>\n",
       "      <th>10</th>\n",
       "      <th>100</th>\n",
       "      <th>1000</th>\n",
       "      <th>10000</th>\n",
       "      <th>100000</th>\n",
       "      <th>100k</th>\n",
       "      <th>...</th>\n",
       "      <th>yovanovitch</th>\n",
       "      <th>yr</th>\n",
       "      <th>yrs</th>\n",
       "      <th>zachary</th>\n",
       "      <th>zelensky</th>\n",
       "      <th>zero</th>\n",
       "      <th>zip</th>\n",
       "      <th>zone</th>\n",
       "      <th>zoom</th>\n",
       "      <th>zuckerberg</th>\n",
       "    </tr>\n",
       "  </thead>\n",
       "  <tbody>\n",
       "    <tr>\n",
       "      <th>0</th>\n",
       "      <td>1</td>\n",
       "      <td>1954</td>\n",
       "      <td>0.618845</td>\n",
       "      <td>0.555188</td>\n",
       "      <td>0.0</td>\n",
       "      <td>0.0</td>\n",
       "      <td>0.0</td>\n",
       "      <td>0.0</td>\n",
       "      <td>0.0</td>\n",
       "      <td>0.0</td>\n",
       "      <td>...</td>\n",
       "      <td>0.0</td>\n",
       "      <td>0.0</td>\n",
       "      <td>0.0</td>\n",
       "      <td>0.0</td>\n",
       "      <td>0.0</td>\n",
       "      <td>0.0</td>\n",
       "      <td>0.0</td>\n",
       "      <td>0.0</td>\n",
       "      <td>0.0</td>\n",
       "      <td>0.0</td>\n",
       "    </tr>\n",
       "    <tr>\n",
       "      <th>1</th>\n",
       "      <td>0</td>\n",
       "      <td>1972</td>\n",
       "      <td>0.745682</td>\n",
       "      <td>0.695293</td>\n",
       "      <td>0.0</td>\n",
       "      <td>0.0</td>\n",
       "      <td>0.0</td>\n",
       "      <td>0.0</td>\n",
       "      <td>0.0</td>\n",
       "      <td>0.0</td>\n",
       "      <td>...</td>\n",
       "      <td>0.0</td>\n",
       "      <td>0.0</td>\n",
       "      <td>0.0</td>\n",
       "      <td>0.0</td>\n",
       "      <td>0.0</td>\n",
       "      <td>0.0</td>\n",
       "      <td>0.0</td>\n",
       "      <td>0.0</td>\n",
       "      <td>0.0</td>\n",
       "      <td>0.0</td>\n",
       "    </tr>\n",
       "    <tr>\n",
       "      <th>2</th>\n",
       "      <td>0</td>\n",
       "      <td>1953</td>\n",
       "      <td>0.618845</td>\n",
       "      <td>0.555188</td>\n",
       "      <td>0.0</td>\n",
       "      <td>0.0</td>\n",
       "      <td>0.0</td>\n",
       "      <td>0.0</td>\n",
       "      <td>0.0</td>\n",
       "      <td>0.0</td>\n",
       "      <td>...</td>\n",
       "      <td>0.0</td>\n",
       "      <td>0.0</td>\n",
       "      <td>0.0</td>\n",
       "      <td>0.0</td>\n",
       "      <td>0.0</td>\n",
       "      <td>0.0</td>\n",
       "      <td>0.0</td>\n",
       "      <td>0.0</td>\n",
       "      <td>0.0</td>\n",
       "      <td>0.0</td>\n",
       "    </tr>\n",
       "    <tr>\n",
       "      <th>3</th>\n",
       "      <td>1</td>\n",
       "      <td>1940</td>\n",
       "      <td>1.079164</td>\n",
       "      <td>1.042235</td>\n",
       "      <td>0.0</td>\n",
       "      <td>0.0</td>\n",
       "      <td>0.0</td>\n",
       "      <td>0.0</td>\n",
       "      <td>0.0</td>\n",
       "      <td>0.0</td>\n",
       "      <td>...</td>\n",
       "      <td>0.0</td>\n",
       "      <td>0.0</td>\n",
       "      <td>0.0</td>\n",
       "      <td>0.0</td>\n",
       "      <td>0.0</td>\n",
       "      <td>0.0</td>\n",
       "      <td>0.0</td>\n",
       "      <td>0.0</td>\n",
       "      <td>0.0</td>\n",
       "      <td>0.0</td>\n",
       "    </tr>\n",
       "    <tr>\n",
       "      <th>4</th>\n",
       "      <td>1</td>\n",
       "      <td>1976</td>\n",
       "      <td>0.512214</td>\n",
       "      <td>0.616219</td>\n",
       "      <td>0.0</td>\n",
       "      <td>0.0</td>\n",
       "      <td>0.0</td>\n",
       "      <td>0.0</td>\n",
       "      <td>0.0</td>\n",
       "      <td>0.0</td>\n",
       "      <td>...</td>\n",
       "      <td>0.0</td>\n",
       "      <td>0.0</td>\n",
       "      <td>0.0</td>\n",
       "      <td>0.0</td>\n",
       "      <td>0.0</td>\n",
       "      <td>0.0</td>\n",
       "      <td>0.0</td>\n",
       "      <td>0.0</td>\n",
       "      <td>0.0</td>\n",
       "      <td>0.0</td>\n",
       "    </tr>\n",
       "    <tr>\n",
       "      <th>...</th>\n",
       "      <td>...</td>\n",
       "      <td>...</td>\n",
       "      <td>...</td>\n",
       "      <td>...</td>\n",
       "      <td>...</td>\n",
       "      <td>...</td>\n",
       "      <td>...</td>\n",
       "      <td>...</td>\n",
       "      <td>...</td>\n",
       "      <td>...</td>\n",
       "      <td>...</td>\n",
       "      <td>...</td>\n",
       "      <td>...</td>\n",
       "      <td>...</td>\n",
       "      <td>...</td>\n",
       "      <td>...</td>\n",
       "      <td>...</td>\n",
       "      <td>...</td>\n",
       "      <td>...</td>\n",
       "      <td>...</td>\n",
       "      <td>...</td>\n",
       "    </tr>\n",
       "    <tr>\n",
       "      <th>14944</th>\n",
       "      <td>1</td>\n",
       "      <td>1982</td>\n",
       "      <td>1.025064</td>\n",
       "      <td>0.982465</td>\n",
       "      <td>0.0</td>\n",
       "      <td>0.0</td>\n",
       "      <td>0.0</td>\n",
       "      <td>0.0</td>\n",
       "      <td>0.0</td>\n",
       "      <td>0.0</td>\n",
       "      <td>...</td>\n",
       "      <td>0.0</td>\n",
       "      <td>0.0</td>\n",
       "      <td>0.0</td>\n",
       "      <td>0.0</td>\n",
       "      <td>0.0</td>\n",
       "      <td>0.0</td>\n",
       "      <td>0.0</td>\n",
       "      <td>0.0</td>\n",
       "      <td>0.0</td>\n",
       "      <td>0.0</td>\n",
       "    </tr>\n",
       "    <tr>\n",
       "      <th>14945</th>\n",
       "      <td>1</td>\n",
       "      <td>1962</td>\n",
       "      <td>1.507353</td>\n",
       "      <td>1.232162</td>\n",
       "      <td>0.0</td>\n",
       "      <td>0.0</td>\n",
       "      <td>0.0</td>\n",
       "      <td>0.0</td>\n",
       "      <td>0.0</td>\n",
       "      <td>0.0</td>\n",
       "      <td>...</td>\n",
       "      <td>0.0</td>\n",
       "      <td>0.0</td>\n",
       "      <td>0.0</td>\n",
       "      <td>0.0</td>\n",
       "      <td>0.0</td>\n",
       "      <td>0.0</td>\n",
       "      <td>0.0</td>\n",
       "      <td>0.0</td>\n",
       "      <td>0.0</td>\n",
       "      <td>0.0</td>\n",
       "    </tr>\n",
       "    <tr>\n",
       "      <th>14946</th>\n",
       "      <td>1</td>\n",
       "      <td>1934</td>\n",
       "      <td>2.257832</td>\n",
       "      <td>2.009539</td>\n",
       "      <td>0.0</td>\n",
       "      <td>0.0</td>\n",
       "      <td>0.0</td>\n",
       "      <td>0.0</td>\n",
       "      <td>0.0</td>\n",
       "      <td>0.0</td>\n",
       "      <td>...</td>\n",
       "      <td>0.0</td>\n",
       "      <td>0.0</td>\n",
       "      <td>0.0</td>\n",
       "      <td>0.0</td>\n",
       "      <td>0.0</td>\n",
       "      <td>0.0</td>\n",
       "      <td>0.0</td>\n",
       "      <td>0.0</td>\n",
       "      <td>0.0</td>\n",
       "      <td>0.0</td>\n",
       "    </tr>\n",
       "    <tr>\n",
       "      <th>14947</th>\n",
       "      <td>1</td>\n",
       "      <td>1954</td>\n",
       "      <td>1.938744</td>\n",
       "      <td>1.452092</td>\n",
       "      <td>0.0</td>\n",
       "      <td>0.0</td>\n",
       "      <td>0.0</td>\n",
       "      <td>0.0</td>\n",
       "      <td>0.0</td>\n",
       "      <td>0.0</td>\n",
       "      <td>...</td>\n",
       "      <td>0.0</td>\n",
       "      <td>0.0</td>\n",
       "      <td>0.0</td>\n",
       "      <td>0.0</td>\n",
       "      <td>0.0</td>\n",
       "      <td>0.0</td>\n",
       "      <td>0.0</td>\n",
       "      <td>0.0</td>\n",
       "      <td>0.0</td>\n",
       "      <td>0.0</td>\n",
       "    </tr>\n",
       "    <tr>\n",
       "      <th>14948</th>\n",
       "      <td>1</td>\n",
       "      <td>1959</td>\n",
       "      <td>0.892994</td>\n",
       "      <td>0.924284</td>\n",
       "      <td>0.0</td>\n",
       "      <td>0.0</td>\n",
       "      <td>0.0</td>\n",
       "      <td>0.0</td>\n",
       "      <td>0.0</td>\n",
       "      <td>0.0</td>\n",
       "      <td>...</td>\n",
       "      <td>0.0</td>\n",
       "      <td>0.0</td>\n",
       "      <td>0.0</td>\n",
       "      <td>0.0</td>\n",
       "      <td>0.0</td>\n",
       "      <td>0.0</td>\n",
       "      <td>0.0</td>\n",
       "      <td>0.0</td>\n",
       "      <td>0.0</td>\n",
       "      <td>0.0</td>\n",
       "    </tr>\n",
       "  </tbody>\n",
       "</table>\n",
       "<p>14949 rows × 5985 columns</p>\n",
       "</div>"
      ],
      "text/plain": [
       "       gender_male  birth_yr  trump/clinton_2016_state  \\\n",
       "0                1      1954                  0.618845   \n",
       "1                0      1972                  0.745682   \n",
       "2                0      1953                  0.618845   \n",
       "3                1      1940                  1.079164   \n",
       "4                1      1976                  0.512214   \n",
       "...            ...       ...                       ...   \n",
       "14944            1      1982                  1.025064   \n",
       "14945            1      1962                  1.507353   \n",
       "14946            1      1934                  2.257832   \n",
       "14947            1      1954                  1.938744   \n",
       "14948            1      1959                  0.892994   \n",
       "\n",
       "       romney/obama_2012_state   10  100  1000  10000  100000  100k  ...  \\\n",
       "0                     0.555188  0.0  0.0   0.0    0.0     0.0   0.0  ...   \n",
       "1                     0.695293  0.0  0.0   0.0    0.0     0.0   0.0  ...   \n",
       "2                     0.555188  0.0  0.0   0.0    0.0     0.0   0.0  ...   \n",
       "3                     1.042235  0.0  0.0   0.0    0.0     0.0   0.0  ...   \n",
       "4                     0.616219  0.0  0.0   0.0    0.0     0.0   0.0  ...   \n",
       "...                        ...  ...  ...   ...    ...     ...   ...  ...   \n",
       "14944                 0.982465  0.0  0.0   0.0    0.0     0.0   0.0  ...   \n",
       "14945                 1.232162  0.0  0.0   0.0    0.0     0.0   0.0  ...   \n",
       "14946                 2.009539  0.0  0.0   0.0    0.0     0.0   0.0  ...   \n",
       "14947                 1.452092  0.0  0.0   0.0    0.0     0.0   0.0  ...   \n",
       "14948                 0.924284  0.0  0.0   0.0    0.0     0.0   0.0  ...   \n",
       "\n",
       "       yovanovitch   yr  yrs  zachary  zelensky  zero  zip  zone  zoom  \\\n",
       "0              0.0  0.0  0.0      0.0       0.0   0.0  0.0   0.0   0.0   \n",
       "1              0.0  0.0  0.0      0.0       0.0   0.0  0.0   0.0   0.0   \n",
       "2              0.0  0.0  0.0      0.0       0.0   0.0  0.0   0.0   0.0   \n",
       "3              0.0  0.0  0.0      0.0       0.0   0.0  0.0   0.0   0.0   \n",
       "4              0.0  0.0  0.0      0.0       0.0   0.0  0.0   0.0   0.0   \n",
       "...            ...  ...  ...      ...       ...   ...  ...   ...   ...   \n",
       "14944          0.0  0.0  0.0      0.0       0.0   0.0  0.0   0.0   0.0   \n",
       "14945          0.0  0.0  0.0      0.0       0.0   0.0  0.0   0.0   0.0   \n",
       "14946          0.0  0.0  0.0      0.0       0.0   0.0  0.0   0.0   0.0   \n",
       "14947          0.0  0.0  0.0      0.0       0.0   0.0  0.0   0.0   0.0   \n",
       "14948          0.0  0.0  0.0      0.0       0.0   0.0  0.0   0.0   0.0   \n",
       "\n",
       "       zuckerberg  \n",
       "0             0.0  \n",
       "1             0.0  \n",
       "2             0.0  \n",
       "3             0.0  \n",
       "4             0.0  \n",
       "...           ...  \n",
       "14944         0.0  \n",
       "14945         0.0  \n",
       "14946         0.0  \n",
       "14947         0.0  \n",
       "14948         0.0  \n",
       "\n",
       "[14949 rows x 5985 columns]"
      ]
     },
     "execution_count": 80,
     "metadata": {},
     "output_type": "execute_result"
    }
   ],
   "source": [
    "# combine best text features (tfidf) with non-text features\n",
    "# ----\n",
    "X_nt = tweets[['gender_male', \n",
    "               'birth_yr', \n",
    "               'trump/clinton_2016_state',\n",
    "               'romney/obama_2012_state']]\n",
    "\n",
    "X_com = X_nt.join(X_tfidf)\n",
    "\n",
    "X_demog = tweets[['gender_male', 'birth_yr']].join(X_tfidf)\n",
    "\n",
    "X_com"
   ]
  },
  {
   "cell_type": "code",
   "execution_count": 81,
   "metadata": {},
   "outputs": [],
   "source": [
    "# set up loop variables\n",
    "# ----\n",
    "dataframes = [X_nt, X_com, X_tfidf, X_demog]\n",
    "featurizations = ['Non-Text Features (Republican=1)', 'TF-IDF + Non-Text (Republican=1)', 'TF-IDF (Republican=1)', 'TF-IDF + Demographic (Republican=1)']"
   ]
  },
  {
   "cell_type": "code",
   "execution_count": 86,
   "metadata": {
    "scrolled": true
   },
   "outputs": [
    {
     "name": "stdout",
     "output_type": "stream",
     "text": [
      "accuracy score of Non-Text Features (Republican=1) : 0.8234113712374582\n",
      "accuracy score of TF-IDF + Non-Text (Republican=1) : 0.8575250836120402\n",
      "accuracy score of TF-IDF (Republican=1) : 0.7598662207357859\n",
      "accuracy score of TF-IDF + Demographic (Republican=1) : 0.6551839464882944\n"
     ]
    },
    {
     "data": {
      "image/png": "[encoded data removed]",
      "text/plain": [
       "<Figure size 640x480 with 2 Axes>"
      ]
     },
     "metadata": {},
     "output_type": "display_data"
    },
    {
     "data": {
      "image/png": "[encoded data removed]",
      "text/plain": [
       "<Figure size 640x480 with 2 Axes>"
      ]
     },
     "metadata": {},
     "output_type": "display_data"
    },
    {
     "data": {
      "image/png": "[encoded data removed]",
      "text/plain": [
       "<Figure size 640x480 with 2 Axes>"
      ]
     },
     "metadata": {},
     "output_type": "display_data"
    },
    {
     "data": {
      "image/png": "[encoded data removed]",
      "text/plain": [
       "<Figure size 640x480 with 2 Axes>"
      ]
     },
     "metadata": {},
     "output_type": "display_data"
    }
   ],
   "source": [
    "# classification model for Republican=1\n",
    "# ----\n",
    "for dataframe, featurization in zip(dataframes, featurizations):\n",
    "    \n",
    "    # split data\n",
    "    X_train, X_test, y_train, y_test = train_test_split(\n",
    "        dataframe, \n",
    "        y_repub,\n",
    "        train_size = .80, \n",
    "        test_size = .20, \n",
    "        random_state = 224) \n",
    "    \n",
    "    # fit logit model \n",
    "    logit = LogisticRegression(max_iter = 500)\n",
    "    logit.fit(X_train,\n",
    "              y_train.ravel())\n",
    "    \n",
    "    # create a confusion matrix\n",
    "    y_pred = logit.predict(X_test)\n",
    "    cm = confusion_matrix(y_test,\n",
    "                          y_pred,\n",
    "                          normalize = \"true\") \n",
    "\n",
    "    # plot\n",
    "    ConfusionMatrixDisplay(cm).plot()\n",
    "    plt.title(featurization);\n",
    "\n",
    "    # print\n",
    "    print('accuracy score of', featurization, ':', logit.score(X_test, y_test))"
   ]
  },
  {
   "cell_type": "code",
   "execution_count": 87,
   "metadata": {},
   "outputs": [],
   "source": [
    "# set up loop variables\n",
    "# ----\n",
    "dataframes = [X_nt, X_com, X_tfidf, X_demog]\n",
    "featurizations = ['Non-Text Features (senator=1)', 'TF-IDF + Non-Text (senator=1)', 'TF-IDF (senator=1)', 'TF-IDF + Demographic (senator=1)']"
   ]
  },
  {
   "cell_type": "code",
   "execution_count": 88,
   "metadata": {
    "scrolled": true
   },
   "outputs": [
    {
     "name": "stdout",
     "output_type": "stream",
     "text": [
      "accuracy score of Non-Text Features (senator=1) : 0.7525083612040134\n",
      "accuracy score of TF-IDF + Non-Text (senator=1) : 0.7892976588628763\n",
      "accuracy score of TF-IDF (senator=1) : 0.7729096989966555\n",
      "accuracy score of TF-IDF + Demographic (senator=1) : 0.754180602006689\n"
     ]
    },
    {
     "data": {
      "image/png": "[encoded data removed]",
      "text/plain": [
       "<Figure size 640x480 with 2 Axes>"
      ]
     },
     "metadata": {},
     "output_type": "display_data"
    },
    {
     "data": {
      "image/png": "[encoded data removed]",
      "text/plain": [
       "<Figure size 640x480 with 2 Axes>"
      ]
     },
     "metadata": {},
     "output_type": "display_data"
    },
    {
     "data": {
      "image/png": "[encoded data removed]",
      "text/plain": [
       "<Figure size 640x480 with 2 Axes>"
      ]
     },
     "metadata": {},
     "output_type": "display_data"
    },
    {
     "data": {
      "image/png": "[encoded data removed]",
      "text/plain": [
       "<Figure size 640x480 with 2 Axes>"
      ]
     },
     "metadata": {},
     "output_type": "display_data"
    }
   ],
   "source": [
    "# classification model for senator=1\n",
    "# ----\n",
    "for dataframe, featurization in zip(dataframes, featurizations):\n",
    "    \n",
    "    # split data\n",
    "    X_train, X_test, y_train, y_test = train_test_split(\n",
    "        dataframe, \n",
    "        y_senat,\n",
    "        train_size = .80, \n",
    "        test_size = .20, \n",
    "        random_state = 224) \n",
    "    \n",
    "    # fit logit model \n",
    "    logit = LogisticRegression(max_iter = 500)\n",
    "    logit.fit(X_train,\n",
    "              y_train.ravel())\n",
    "    \n",
    "    # create a confusion matrix\n",
    "    y_pred = logit.predict(X_test)\n",
    "    cm = confusion_matrix(y_test,\n",
    "                          y_pred,\n",
    "                          normalize = \"true\") \n",
    "\n",
    "    # plot\n",
    "    ConfusionMatrixDisplay(cm).plot()\n",
    "    plt.title(featurization);\n",
    "\n",
    "    # print\n",
    "    print('accuracy score of', featurization, ':', logit.score(X_test, y_test))"
   ]
  },
  {
   "cell_type": "code",
   "execution_count": 107,
   "metadata": {},
   "outputs": [
    {
     "name": "stdout",
     "output_type": "stream",
     "text": [
      "Optimization terminated successfully.\n",
      "         Current function value: 0.409643\n",
      "         Iterations 7\n",
      "                           Logit Regression Results                           \n",
      "==============================================================================\n",
      "Dep. Variable:                      y   No. Observations:                14949\n",
      "Model:                          Logit   Df Residuals:                    14944\n",
      "Method:                           MLE   Df Model:                            4\n",
      "Date:                Sat, 24 Feb 2024   Pseudo R-squ.:                  0.4090\n",
      "Time:                        16:46:11   Log-Likelihood:                -6123.8\n",
      "converged:                       True   LL-Null:                       -10362.\n",
      "Covariance Type:            nonrobust   LLR p-value:                     0.000\n",
      "============================================================================================\n",
      "                               coef    std err          z      P>|z|      [0.025      0.975]\n",
      "--------------------------------------------------------------------------------------------\n",
      "const                      -72.4360      4.053    -17.872      0.000     -80.380     -64.492\n",
      "gender_male                  2.2247      0.060     37.203      0.000       2.107       2.342\n",
      "birth_yr                     0.0336      0.002     16.332      0.000       0.030       0.038\n",
      "trump/clinton_2016_state     3.5199      0.167     21.043      0.000       3.192       3.848\n",
      "romney/obama_2012_state      1.1603      0.172      6.755      0.000       0.824       1.497\n",
      "============================================================================================\n"
     ]
    }
   ],
   "source": [
    "# logistic regression using non-text features \n",
    "# (to get an intuition at why non-text features work)\n",
    "# ----\n",
    "import statsmodels.api as sm\n",
    "\n",
    "logit = sm.Logit(y_repub, sm.add_constant(X_nt)).fit()\n",
    "\n",
    "print(logit.summary())"
   ]
  },
  {
   "cell_type": "markdown",
   "metadata": {},
   "source": [
    "## Discussion Questions"
   ]
  },
  {
   "cell_type": "markdown",
   "metadata": {},
   "source": [
    "1. Why do standard preprocessing techniques need to be further customized to a particular corpus?"
   ]
  },
  {
   "cell_type": "markdown",
   "metadata": {},
   "source": [
    "**YOUR ANSWER HERE:** Because every corpus has its idosyncrasies that without customization can degenerate the effectiveness of preprocessing strategies. For example, in this tweets data, words are often separated not by space (' ') but by line breakers (e.g., '\\n'), thus words may be incorrectly agglomerated if line breakers are not replaced by space. "
   ]
  },
  {
   "cell_type": "markdown",
   "metadata": {},
   "source": [
    "2. Did you find evidence for the idea that Democrats and Republicans have different sentiments in their tweets? What about Senators and Representatives?"
   ]
  },
  {
   "cell_type": "markdown",
   "metadata": {},
   "source": [
    "**YOUR ANSWER HERE:** Exploratory analysis in section 3 does suggest that, in general, Republicans have more positive sentiments in their tweets compared to Democrats. However, this sentiment difference is not clear when comparing Senators and Representatives.  "
   ]
  },
  {
   "cell_type": "markdown",
   "metadata": {},
   "source": [
    "3. Why is validating your exploratory and unsupervised learning approaches with a supervised learning algorithm valuable?"
   ]
  },
  {
   "cell_type": "markdown",
   "metadata": {},
   "source": [
    "**YOUR ANSWER HERE:** Supervised learning algorithms, here set by the classification task, provide an intuitive sense to how well our featurization is doing. When analyzing text data, the absence of the one best preprocessing strategy and featurization recipe can leave researchers in a quandary. Going back and forth between exploratory methods and classification tasks can help to supply better understanding of analytic processes. "
   ]
  },
  {
   "cell_type": "markdown",
   "metadata": {},
   "source": [
    "4. Did text only, non-text only, or text and non-text features together perform the best? What is the intuition behind combining text and non-text features in a supervised learning algorithm?"
   ]
  },
  {
   "cell_type": "markdown",
   "metadata": {},
   "source": [
    "**YOUR ANSWER HERE:** In terms of distinguishing Republicans tweets from Democrats tweets, TF-IDF provides a decent result: 76% accuracy in a balanced data. With non-text features only, however, I get a 82% accuracy score. This performace improvement seems to come mostly from two features: gender and state share of voting for trump divided by that of voting for clinton in 2016 presidential election, both are positively correlated with being a Republican (see logistic regression table in section 5.3). Combining non-text features with TF-IDF leads to a 86% accuracy score and is no doubt the model that performs the best. The intuition behind it is that the classification model based on non-text features (here gender, age, and presidential voting pattern in each state) is improved by the information provided by text data. "
   ]
  },
  {
   "cell_type": "code",
   "execution_count": null,
   "metadata": {},
   "outputs": [],
   "source": []
  }
 ],
 "metadata": {
  "kernelspec": {
   "display_name": "Python 3 (ipykernel)",
   "language": "python",
   "name": "python3"
  },
  "language_info": {
   "codemirror_mode": {
    "name": "ipython",
    "version": 3
   },
   "file_extension": ".py",
   "mimetype": "text/x-python",
   "name": "python",
   "nbconvert_exporter": "python",
   "pygments_lexer": "ipython3",
   "version": "3.10.10"
  }
 },
 "nbformat": 4,
 "nbformat_minor": 4
}
